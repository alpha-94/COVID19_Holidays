{
 "cells": [
  {
   "cell_type": "markdown",
   "metadata": {},
   "source": [
    "# INFOMATION\n",
    "\n",
    "### python info\n",
    " - Version : 3.6.10\n",
    " - Anaconda ver 4.8.2\n",
    " \n",
    "### package info\n",
    " - tensorflow ver 1.8.0\n",
    " - numpy ver 1.16.4\n",
    " - pandas ver 0.22.0"
   ]
  },
  {
   "cell_type": "code",
   "execution_count": 1,
   "metadata": {},
   "outputs": [],
   "source": [
    "import tensorflow as tf\n",
    "import numpy as np\n",
    "import pandas as pd\n",
    "import datetime\n",
    "import matplotlib.pyplot as plt"
   ]
  },
  {
   "cell_type": "markdown",
   "metadata": {},
   "source": [
    "# SETTING\n",
    "\n",
    " ### tuning\n",
    "  - hyper parameter 튜닝\n",
    "  "
   ]
  },
  {
   "cell_type": "code",
   "execution_count": 2,
   "metadata": {},
   "outputs": [],
   "source": [
    "tf.set_random_seed(777)"
   ]
  },
  {
   "cell_type": "markdown",
   "metadata": {},
   "source": [
    "### Funtion\n",
    " - Standardization\n",
    "     >\n",
    " - Min-Max scaling\n",
    "     > 최소값과 최대값을 이용하여 0~1사이의 값으로 변환한다.\n",
    "     \n",
    " - reverse_min_max_scalin\n",
    "     > Min-Max scaling을 역 정규화 한다."
   ]
  },
  {
   "cell_type": "code",
   "execution_count": 3,
   "metadata": {},
   "outputs": [],
   "source": [
    "# Standardization\n",
    "def data_standardization(x):\n",
    "    x_np = np.asarray(x)\n",
    "    return (x_np - x_np.mean()) / x_np.std()\n",
    "\n",
    "# Min-Max scaling\n",
    "def min_max_scaling(x):\n",
    "    x_np = np.asarray(x)\n",
    "    return (x_np - x_np.min()) / (x_np.max() - x_np.min() + 1e-7)\n",
    "\n",
    "# reverse_min_max_scaling\n",
    "def reverse_min_max_scaling(org_x, x):\n",
    "    org_x_np = np.asarray(org_x)\n",
    "    x_np = np.asarray(x)\n",
    "    return (x_np * (org_x_np.max() - org_x_np.min() + 1e-7)) + org_x_np.min()"
   ]
  },
  {
   "cell_type": "markdown",
   "metadata": {},
   "source": [
    "### Variable\n",
    " - hyper parameter"
   ]
  },
  {
   "cell_type": "code",
   "execution_count": 4,
   "metadata": {},
   "outputs": [],
   "source": [
    "input_data_cnt = 3  # 입력데이터의 컬럼 개수\n",
    "output_data_cnt = 1  # 결과데이터의 컬럼 개수\n",
    "\n",
    "seq_length = 4  # 1개 시퀀스의 길이(시계열데이터 입력 개수)\n",
    "rnn_cell_hidden_dim = 10  # 각 셀의 (hidden)출력 크기\n",
    "forget_bias = 1.0  # 망각편향(기본값 1.0)\n",
    "num_stacked_layers = 1  # stacked LSTM layers 개수\n",
    "keep_prob = 1.0  # dropout할 때 keep할 비율\n",
    "\n",
    "epoch_num = 5000  # 에폭 횟수(학습용전체데이터를 몇 회 반복해서 학습할 것인가 입력)\n",
    "learning_rate = 0.001  # 학습률"
   ]
  },
  {
   "cell_type": "markdown",
   "metadata": {},
   "source": [
    " - load data"
   ]
  },
  {
   "cell_type": "code",
   "execution_count": 5,
   "metadata": {},
   "outputs": [
    {
     "name": "stdout",
     "output_type": "stream",
     "text": [
      "<class 'pandas.core.frame.DataFrame'>\n",
      "RangeIndex: 202 entries, 0 to 201\n",
      "Data columns (total 5 columns):\n",
      "date       202 non-null object\n",
      "examcnt    202 non-null int64\n",
      "spread     202 non-null float64\n",
      "policy     202 non-null float64\n",
      "cnt        202 non-null int64\n",
      "dtypes: float64(2), int64(2), object(1)\n",
      "memory usage: 8.0+ KB\n"
     ]
    }
   ],
   "source": [
    "path = ''\n",
    "file_name = 'test_kk.csv'  # 아마존 주가데이터 파일\n",
    "encoding = 'UTP-8'  # 문자 인코딩\n",
    "\n",
    "raw_dataframe = pd.read_csv(path+file_name)\n",
    "raw_dataframe.info()  # 데이터 정보 출력"
   ]
  },
  {
   "cell_type": "code",
   "execution_count": 6,
   "metadata": {
    "scrolled": true
   },
   "outputs": [
    {
     "data": {
      "text/html": [
       "<div>\n",
       "<style scoped>\n",
       "    .dataframe tbody tr th:only-of-type {\n",
       "        vertical-align: middle;\n",
       "    }\n",
       "\n",
       "    .dataframe tbody tr th {\n",
       "        vertical-align: top;\n",
       "    }\n",
       "\n",
       "    .dataframe thead th {\n",
       "        text-align: right;\n",
       "    }\n",
       "</style>\n",
       "<table border=\"1\" class=\"dataframe\">\n",
       "  <thead>\n",
       "    <tr style=\"text-align: right;\">\n",
       "      <th></th>\n",
       "      <th>examcnt</th>\n",
       "      <th>spread</th>\n",
       "      <th>cnt</th>\n",
       "    </tr>\n",
       "  </thead>\n",
       "  <tbody>\n",
       "    <tr>\n",
       "      <th>0</th>\n",
       "      <td>119</td>\n",
       "      <td>0.035</td>\n",
       "      <td>1</td>\n",
       "    </tr>\n",
       "    <tr>\n",
       "      <th>1</th>\n",
       "      <td>55</td>\n",
       "      <td>0.035</td>\n",
       "      <td>1</td>\n",
       "    </tr>\n",
       "    <tr>\n",
       "      <th>2</th>\n",
       "      <td>105</td>\n",
       "      <td>0.035</td>\n",
       "      <td>1</td>\n",
       "    </tr>\n",
       "  </tbody>\n",
       "</table>\n",
       "</div>"
      ],
      "text/plain": [
       "   examcnt  spread  cnt\n",
       "0      119   0.035    1\n",
       "1       55   0.035    1\n",
       "2      105   0.035    1"
      ]
     },
     "execution_count": 6,
     "metadata": {},
     "output_type": "execute_result"
    }
   ],
   "source": [
    "# 시계열 데이터 제거\n",
    "del raw_dataframe['date']\n",
    "del raw_dataframe['policy']\n",
    "\n",
    "raw_dataframe[0:3]"
   ]
  },
  {
   "cell_type": "code",
   "execution_count": 7,
   "metadata": {},
   "outputs": [
    {
     "data": {
      "text/plain": [
       "array([[5.50e+01, 3.50e-02, 1.00e+00],\n",
       "       [1.05e+02, 3.50e-02, 1.00e+00],\n",
       "       [4.98e+02, 3.50e-02, 1.00e+00]])"
      ]
     },
     "execution_count": 7,
     "metadata": {},
     "output_type": "execute_result"
    }
   ],
   "source": [
    "# 부동소수점형으로 변환\n",
    "info = raw_dataframe.values[1:].astype(np.float)\n",
    "\n",
    "info[0:3]"
   ]
  },
  {
   "cell_type": "markdown",
   "metadata": {},
   "source": [
    " - preprocessing"
   ]
  },
  {
   "cell_type": "code",
   "execution_count": 8,
   "metadata": {},
   "outputs": [
    {
     "data": {
      "text/plain": [
       "array([[2.35521945e-03, 1.15636684e-06],\n",
       "       [4.49663951e-03, 1.15636684e-06],\n",
       "       [2.13282012e-02, 1.15636684e-06],\n",
       "       [2.19277989e-02, 1.15636684e-06],\n",
       "       [4.50979640e-02, 0.00000000e+00],\n",
       "       [8.46285784e-02, 1.15636684e-06],\n",
       "       [1.32682045e-01, 2.65536088e-06],\n",
       "       [2.12300043e-01, 4.83960935e-06],\n",
       "       [1.89472505e-01, 1.46473133e-05],\n",
       "       [2.71788692e-01, 1.19919524e-05],\n",
       "       [3.17101141e-01, 8.65133707e-06],\n",
       "       [5.55269881e-01, 1.19919524e-05],\n",
       "       [5.39380544e-01, 1.56751949e-05],\n",
       "       [5.97198885e-01, 9.33659149e-06],\n",
       "       [5.17152603e-01, 1.38335736e-05],\n",
       "       [1.83305215e-01, 2.65536088e-06],\n",
       "       [4.36592381e-01, 2.65536088e-06],\n",
       "       [6.70692422e-01, 1.16493252e-05],\n",
       "       [4.42845327e-01, 1.46473133e-05],\n",
       "       [4.02415316e-01, 1.49899405e-05],\n",
       "       [7.57248621e-01, 1.64889345e-05],\n",
       "       [5.55312709e-01, 7.49497023e-06],\n",
       "       [4.26656191e-01, 1.15208400e-05],\n",
       "       [3.36288265e-01, 1.41762008e-05],\n",
       "       [5.73686093e-01, 1.46473133e-05],\n",
       "       [5.14325929e-01, 7.15234302e-06],\n",
       "       [5.34883562e-01, 3.68324251e-06],\n",
       "       [5.79853383e-01, 1.86731830e-05],\n",
       "       [5.38823774e-01, 1.11782127e-05],\n",
       "       [2.91275615e-01, 1.88873250e-05],\n",
       "       [2.66306657e-01, 3.37487802e-05],\n",
       "       [5.19422509e-01, 1.56751949e-05],\n",
       "       [3.78517068e-01, 2.16711711e-05],\n",
       "       [4.80748462e-01, 1.19919524e-05],\n",
       "       [4.09139375e-01, 9.67921870e-06],\n",
       "       [4.58177895e-01, 1.52040825e-05],\n",
       "       [1.78722576e-01, 9.20810629e-06],\n",
       "       [2.65193118e-01, 7.36648503e-06],\n",
       "       [4.48413019e-01, 2.01721770e-05],\n",
       "       [3.94620547e-01, 1.23345796e-05],\n",
       "       [2.97314419e-01, 1.41762008e-05],\n",
       "       [5.10856828e-01, 1.26772068e-05],\n",
       "       [4.63317303e-01, 1.04929583e-05],\n",
       "       [2.61724018e-01, 5.99597619e-06],\n",
       "       [4.17573487e-02, 6.33860340e-06],\n",
       "       [6.52918636e-01, 1.40477156e-05],\n",
       "       [4.66058321e-01, 1.11782127e-05],\n",
       "       [4.32866310e-01, 1.65745913e-05],\n",
       "       [4.90127882e-01, 1.71741889e-05],\n",
       "       [4.99592959e-01, 7.83759744e-06],\n",
       "       [2.62109474e-01, 3.34061530e-06],\n",
       "       [2.36583746e-01, 6.33860340e-06],\n",
       "       [4.47684936e-01, 5.99597619e-06],\n",
       "       [3.70294015e-01, 3.34061530e-06],\n",
       "       [3.71279068e-01, 7.15234302e-06],\n",
       "       [3.56032158e-01, 6.33860340e-06],\n",
       "       [3.16844170e-01, 4.83960935e-06],\n",
       "       [1.75467618e-01, 8.65133707e-06],\n",
       "       [3.71236240e-01, 2.99798809e-06],\n",
       "       [3.03524538e-01, 1.15636684e-06],\n",
       "       [1.79921771e-01, 1.15636684e-06],\n",
       "       [3.28322182e-01, 3.34061530e-06],\n",
       "       [1.82748446e-01, 0.00000000e+00],\n",
       "       [1.67587192e-01, 1.15636684e-06],\n",
       "       [2.96971792e-01, 0.00000000e+00],\n",
       "       [2.57141379e-01, 1.15636684e-06],\n",
       "       [2.37397486e-01, 2.65536088e-06],\n",
       "       [2.41166385e-01, 0.00000000e+00],\n",
       "       [1.33367299e-01, 1.15636684e-06],\n",
       "       [2.92945922e-01, 1.15636684e-06],\n",
       "       [1.22317572e-01, 1.15636684e-06],\n",
       "       [2.69347473e-01, 1.15636684e-06],\n",
       "       [2.33971214e-01, 2.99798809e-06],\n",
       "       [2.20523096e-01, 7.49497023e-06],\n",
       "       [1.63689807e-01, 3.34061530e-06],\n",
       "       [1.95768280e-01, 7.02385782e-06],\n",
       "       [5.29829810e-01, 1.15636684e-06],\n",
       "       [6.42596991e-01, 6.33860340e-06],\n",
       "       [6.65338872e-01, 2.65536088e-06],\n",
       "       [6.52533180e-01, 1.15636684e-06],\n",
       "       [5.94415039e-01, 1.15636684e-06],\n",
       "       [2.99584325e-01, 1.15636684e-06],\n",
       "       [2.37397486e-01, 2.65536088e-06],\n",
       "       [5.28930414e-01, 6.33860340e-06],\n",
       "       [4.63702759e-01, 5.65334898e-06],\n",
       "       [5.24176461e-01, 2.99798809e-06],\n",
       "       [5.87348353e-01, 1.56751949e-05],\n",
       "       [5.13041077e-01, 7.15234302e-06],\n",
       "       [2.50288835e-01, 7.15234302e-06],\n",
       "       [2.62623414e-01, 2.65536088e-06],\n",
       "       [5.57582614e-01, 5.99597619e-06],\n",
       "       [5.72229928e-01, 2.88235141e-05],\n",
       "       [6.72876671e-01, 1.82020706e-05],\n",
       "       [7.02214126e-01, 9.20810629e-06],\n",
       "       [7.59861154e-01, 7.83759744e-06],\n",
       "       [3.38087057e-01, 1.38335736e-05],\n",
       "       [4.51154037e-01, 1.60178221e-05],\n",
       "       [7.88984467e-01, 1.18634672e-05],\n",
       "       [7.26026717e-01, 1.41762008e-05],\n",
       "       [7.26669143e-01, 9.67921870e-06],\n",
       "       [7.30780669e-01, 6.33860340e-06],\n",
       "       [6.12188826e-01, 2.58255260e-05],\n",
       "       [3.17229626e-01, 8.99396428e-06],\n",
       "       [2.31572823e-01, 1.45188281e-05],\n",
       "       [7.59989639e-01, 3.10077626e-05],\n",
       "       [6.82041949e-01, 1.15208400e-05],\n",
       "       [6.36900814e-01, 2.08574314e-05],\n",
       "       [6.22853098e-01, 1.79879286e-05],\n",
       "       [5.64006874e-01, 1.11782127e-05],\n",
       "       [2.39410421e-01, 5.65334898e-06],\n",
       "       [2.29345746e-01, 4.49698214e-06],\n",
       "       [6.00196874e-01, 1.79879286e-05],\n",
       "       [5.57325644e-01, 1.33624612e-05],\n",
       "       [5.49488046e-01, 1.08355855e-05],\n",
       "       [5.26874651e-01, 1.11782127e-05],\n",
       "       [5.46961171e-01, 1.15208400e-05],\n",
       "       [2.36155462e-01, 1.49899405e-06],\n",
       "       [2.39239107e-01, 2.65536088e-06],\n",
       "       [5.95314436e-01, 7.83759744e-06],\n",
       "       [5.36810840e-01, 7.49497023e-06],\n",
       "       [5.07644698e-01, 4.15435493e-06],\n",
       "       [5.05289136e-01, 8.39436666e-06],\n",
       "       [4.88843030e-01, 1.71741889e-05],\n",
       "       [3.36331093e-01, 1.68315617e-05],\n",
       "       [3.51920631e-01, 8.99396428e-06],\n",
       "       [5.89703915e-01, 1.38335736e-05],\n",
       "       [4.88885859e-01, 5.65334898e-06],\n",
       "       [4.57278498e-01, 2.05148042e-05],\n",
       "       [5.02633775e-01, 1.30198340e-05],\n",
       "       [5.01049125e-01, 3.34061530e-06],\n",
       "       [2.77227899e-01, 6.33860340e-06],\n",
       "       [2.43821746e-01, 8.65133707e-06],\n",
       "       [6.14758530e-01, 1.03644731e-05],\n",
       "       [5.77240850e-01, 1.15636684e-06],\n",
       "       [5.13383704e-01, 2.99798809e-06],\n",
       "       [5.59938176e-01, 4.15435493e-06],\n",
       "       [5.14625728e-01, 9.67921870e-06],\n",
       "       [2.20951380e-01, 1.15636684e-06],\n",
       "       [2.61509876e-01, 5.65334898e-06],\n",
       "       [5.25546970e-01, 2.99798809e-06],\n",
       "       [4.56593244e-01, 2.99798809e-06],\n",
       "       [4.27041647e-01, 5.99597619e-06],\n",
       "       [4.11537766e-01, 2.65536088e-06],\n",
       "       [2.08488315e-01, 1.15636684e-06],\n",
       "       [5.20450390e-01, 1.04929583e-05],\n",
       "       [4.11923221e-01, 1.58893369e-05],\n",
       "       [3.73634631e-01, 4.83960935e-06],\n",
       "       [4.03957139e-01, 9.20810629e-06],\n",
       "       [3.50935578e-01, 4.83960935e-06],\n",
       "       [1.81335109e-01, 1.49899405e-06],\n",
       "       [1.72298316e-01, 1.15636684e-06],\n",
       "       [4.58349208e-01, 3.68324251e-06],\n",
       "       [4.09225032e-01, 5.65334898e-06],\n",
       "       [3.80744145e-01, 3.34061530e-06],\n",
       "       [3.23139945e-01, 7.15234302e-06],\n",
       "       [3.42755353e-01, 1.15636684e-06],\n",
       "       [1.87845026e-01, 1.15636684e-06],\n",
       "       [1.49385121e-01, 2.99798809e-06],\n",
       "       [4.27812558e-01, 3.42627211e-07],\n",
       "       [3.58644690e-01, 1.26772068e-05],\n",
       "       [3.53633767e-01, 4.83960935e-06],\n",
       "       [3.06008585e-01, 1.26772068e-05],\n",
       "       [2.92046526e-01, 1.37050884e-05],\n",
       "       [1.75596103e-01, 3.34061530e-06],\n",
       "       [1.55252612e-01, 7.83759744e-06],\n",
       "       [4.07169269e-01, 2.69818928e-05],\n",
       "       [3.74919483e-01, 1.82020706e-05],\n",
       "       [3.50764264e-01, 4.58692178e-05],\n",
       "       [4.31838428e-01, 1.19234269e-04],\n",
       "       [4.30253777e-01, 8.16737613e-05],\n",
       "       [2.66049686e-01, 6.90822113e-05],\n",
       "       [2.77784668e-01, 5.78183418e-05],\n",
       "       [3.56588927e-01, 8.99396428e-05],\n",
       "       [7.59133071e-01, 1.08869796e-04],\n",
       "       [8.02218443e-01, 1.11610814e-04],\n",
       "       [8.44404418e-01, 1.06214435e-04],\n",
       "       [9.14171884e-01, 1.38721192e-04],\n",
       "       [6.41954565e-01, 8.36438678e-05],\n",
       "       [5.55484023e-01, 7.17804006e-05],\n",
       "       [9.05177919e-01, 1.00603915e-04],\n",
       "       [1.00000000e+00, 1.22060944e-04],\n",
       "       [8.40806832e-01, 1.27157524e-04],\n",
       "       [7.60931864e-01, 8.73699387e-05],\n",
       "       [9.11773493e-01, 1.00946542e-04],\n",
       "       [6.22810269e-01, 6.55274540e-05],\n",
       "       [5.68375371e-01, 6.00025903e-05],\n",
       "       [9.06077316e-01, 1.00132802e-04],\n",
       "       [8.97169008e-01, 7.90612289e-05],\n",
       "       [8.59223045e-01, 6.10733003e-05],\n",
       "       [7.77592112e-01, 4.21431469e-05],\n",
       "       [7.69668858e-01, 5.47346969e-05],\n",
       "       [3.73591802e-01, 3.27208986e-05],\n",
       "       [2.24548966e-01, 3.97447564e-05],\n",
       "       [6.27221595e-01, 5.17367088e-05],\n",
       "       [6.85254079e-01, 5.14797384e-05],\n",
       "       [7.36733817e-01, 5.04518568e-05],\n",
       "       [8.32755093e-01, 3.25067566e-05],\n",
       "       [6.89965203e-01, 3.12219046e-05],\n",
       "       [3.29435720e-01, 3.85027328e-05],\n",
       "       [3.26480561e-01, 3.30635258e-05],\n",
       "       [5.76898223e-01, 2.98513957e-05]])"
      ]
     },
     "execution_count": 8,
     "metadata": {},
     "output_type": "execute_result"
    }
   ],
   "source": [
    "# X Data\n",
    "x_info = info[:,:-1]\n",
    "scaling_x = min_max_scaling(x_info)\n",
    "\n",
    "scaling_x"
   ]
  },
  {
   "cell_type": "code",
   "execution_count": 9,
   "metadata": {},
   "outputs": [
    {
     "data": {
      "text/plain": [
       "array([[0.        ],\n",
       "       [0.        ],\n",
       "       [0.        ],\n",
       "       [0.        ],\n",
       "       [0.        ],\n",
       "       [0.        ],\n",
       "       [0.00833333],\n",
       "       [0.05      ],\n",
       "       [0.075     ],\n",
       "       [0.06666667],\n",
       "       [0.04166667],\n",
       "       [0.06666667],\n",
       "       [0.1       ],\n",
       "       [0.05833333],\n",
       "       [0.08333333],\n",
       "       [0.00833333],\n",
       "       [0.00833333],\n",
       "       [0.05833333],\n",
       "       [0.075     ],\n",
       "       [0.08333333],\n",
       "       [0.1       ],\n",
       "       [0.04166667],\n",
       "       [0.09166667],\n",
       "       [0.09166667],\n",
       "       [0.075     ],\n",
       "       [0.03333333],\n",
       "       [0.03333333],\n",
       "       [0.11666667],\n",
       "       [0.075     ],\n",
       "       [0.15      ],\n",
       "       [0.25833333],\n",
       "       [0.1       ],\n",
       "       [0.13333333],\n",
       "       [0.06666667],\n",
       "       [0.06666667],\n",
       "       [0.11666667],\n",
       "       [0.08333333],\n",
       "       [0.06666667],\n",
       "       [0.125     ],\n",
       "       [0.075     ],\n",
       "       [0.09166667],\n",
       "       [0.08333333],\n",
       "       [0.05833333],\n",
       "       [0.03333333],\n",
       "       [0.04166667],\n",
       "       [0.11666667],\n",
       "       [0.075     ],\n",
       "       [0.15      ],\n",
       "       [0.10833333],\n",
       "       [0.05      ],\n",
       "       [0.025     ],\n",
       "       [0.04166667],\n",
       "       [0.03333333],\n",
       "       [0.025     ],\n",
       "       [0.03333333],\n",
       "       [0.04166667],\n",
       "       [0.03333333],\n",
       "       [0.04166667],\n",
       "       [0.01666667],\n",
       "       [0.        ],\n",
       "       [0.        ],\n",
       "       [0.025     ],\n",
       "       [0.        ],\n",
       "       [0.        ],\n",
       "       [0.        ],\n",
       "       [0.        ],\n",
       "       [0.00833333],\n",
       "       [0.        ],\n",
       "       [0.        ],\n",
       "       [0.        ],\n",
       "       [0.        ],\n",
       "       [0.        ],\n",
       "       [0.01666667],\n",
       "       [0.04166667],\n",
       "       [0.025     ],\n",
       "       [0.05833333],\n",
       "       [0.        ],\n",
       "       [0.04166667],\n",
       "       [0.00833333],\n",
       "       [0.        ],\n",
       "       [0.        ],\n",
       "       [0.        ],\n",
       "       [0.00833333],\n",
       "       [0.04166667],\n",
       "       [0.025     ],\n",
       "       [0.01666667],\n",
       "       [0.1       ],\n",
       "       [0.03333333],\n",
       "       [0.03333333],\n",
       "       [0.00833333],\n",
       "       [0.03333333],\n",
       "       [0.16666667],\n",
       "       [0.15      ],\n",
       "       [0.09166667],\n",
       "       [0.05      ],\n",
       "       [0.08333333],\n",
       "       [0.11666667],\n",
       "       [0.09166667],\n",
       "       [0.09166667],\n",
       "       [0.06666667],\n",
       "       [0.04166667],\n",
       "       [0.15      ],\n",
       "       [0.05      ],\n",
       "       [0.1       ],\n",
       "       [0.19166667],\n",
       "       [0.08333333],\n",
       "       [0.14166667],\n",
       "       [0.1       ],\n",
       "       [0.075     ],\n",
       "       [0.04166667],\n",
       "       [0.025     ],\n",
       "       [0.1       ],\n",
       "       [0.1       ],\n",
       "       [0.06666667],\n",
       "       [0.075     ],\n",
       "       [0.08333333],\n",
       "       [0.00833333],\n",
       "       [0.00833333],\n",
       "       [0.05      ],\n",
       "       [0.04166667],\n",
       "       [0.01666667],\n",
       "       [0.1       ],\n",
       "       [0.10833333],\n",
       "       [0.1       ],\n",
       "       [0.05      ],\n",
       "       [0.08333333],\n",
       "       [0.025     ],\n",
       "       [0.13333333],\n",
       "       [0.1       ],\n",
       "       [0.025     ],\n",
       "       [0.04166667],\n",
       "       [0.04166667],\n",
       "       [0.08333333],\n",
       "       [0.        ],\n",
       "       [0.01666667],\n",
       "       [0.01666667],\n",
       "       [0.06666667],\n",
       "       [0.        ],\n",
       "       [0.025     ],\n",
       "       [0.01666667],\n",
       "       [0.01666667],\n",
       "       [0.03333333],\n",
       "       [0.00833333],\n",
       "       [0.        ],\n",
       "       [0.05833333],\n",
       "       [0.13333333],\n",
       "       [0.03333333],\n",
       "       [0.08333333],\n",
       "       [0.03333333],\n",
       "       [0.00833333],\n",
       "       [0.        ],\n",
       "       [0.03333333],\n",
       "       [0.025     ],\n",
       "       [0.025     ],\n",
       "       [0.03333333],\n",
       "       [0.        ],\n",
       "       [0.        ],\n",
       "       [0.01666667],\n",
       "       [0.00833333],\n",
       "       [0.08333333],\n",
       "       [0.03333333],\n",
       "       [0.08333333],\n",
       "       [0.10833333],\n",
       "       [0.025     ],\n",
       "       [0.05      ],\n",
       "       [0.15      ],\n",
       "       [0.13333333],\n",
       "       [0.3       ],\n",
       "       [0.875     ],\n",
       "       [0.60833333],\n",
       "       [0.58333333],\n",
       "       [0.45      ],\n",
       "       [0.73333333],\n",
       "       [0.8       ],\n",
       "       [0.85833333],\n",
       "       [0.8       ],\n",
       "       [0.98333333],\n",
       "       [0.6       ],\n",
       "       [0.50833333],\n",
       "       [0.675     ],\n",
       "       [0.775     ],\n",
       "       [1.        ],\n",
       "       [0.79166667],\n",
       "       [0.68333333],\n",
       "       [0.525     ],\n",
       "       [0.475     ],\n",
       "       [0.69166667],\n",
       "       [0.51666667],\n",
       "       [0.41666667],\n",
       "       [0.35      ],\n",
       "       [0.375     ],\n",
       "       [0.23333333],\n",
       "       [0.29166667],\n",
       "       [0.35833333],\n",
       "       [0.40833333],\n",
       "       [0.38333333],\n",
       "       [0.20833333],\n",
       "       [0.225     ],\n",
       "       [0.23333333],\n",
       "       [0.25      ],\n",
       "       [0.19166667]])"
      ]
     },
     "execution_count": 9,
     "metadata": {},
     "output_type": "execute_result"
    }
   ],
   "source": [
    "# Y Data\n",
    "y_info = info[:,-1:]\n",
    "scaling_y = min_max_scaling(y_info)\n",
    "\n",
    "scaling_y"
   ]
  },
  {
   "cell_type": "code",
   "execution_count": 10,
   "metadata": {},
   "outputs": [
    {
     "name": "stdout",
     "output_type": "stream",
     "text": [
      "x data frist array ::  [2.35521945e-03 1.15636684e-06 0.00000000e+00]\n",
      "x data last array  ::  [5.76898223e-01 2.98513957e-05 1.91666667e-01]\n",
      "================================================================================\n",
      "y data frist array ::  [0.]\n",
      "y data last array  ::  [0.19166667]\n"
     ]
    }
   ],
   "source": [
    "# Concatenate\n",
    "\n",
    "x = np.concatenate((scaling_x, scaling_y), axis=1)\n",
    "\n",
    "print('x data frist array :: ',x[0])\n",
    "print('x data last array  :: ',x[-1])\n",
    "\n",
    "print('=' * 80)\n",
    "\n",
    "y = x[:,[-1]]\n",
    "\n",
    "print('y data frist array :: ',y[0])\n",
    "print('y data last array  :: ',y[-1])"
   ]
  },
  {
   "cell_type": "code",
   "execution_count": 11,
   "metadata": {},
   "outputs": [],
   "source": [
    "# data list\n",
    "data_X = []\n",
    "data_Y = []"
   ]
  },
  {
   "cell_type": "code",
   "execution_count": 12,
   "metadata": {},
   "outputs": [
    {
     "name": "stdout",
     "output_type": "stream",
     "text": [
      "[[2.35521945e-03 1.15636684e-06 0.00000000e+00]\n",
      " [4.49663951e-03 1.15636684e-06 0.00000000e+00]\n",
      " [2.13282012e-02 1.15636684e-06 0.00000000e+00]\n",
      " [2.19277989e-02 1.15636684e-06 0.00000000e+00]] -> [0.]\n",
      "197 197\n"
     ]
    }
   ],
   "source": [
    "# seq_length\n",
    "\n",
    "for i in range(0, len(y) - seq_length):\n",
    "    _x = x[i: i + seq_length]\n",
    "    _y = y[i + seq_length]  # 다음 나타날 주가(정답)\n",
    "    if i is 0:\n",
    "        print(_x, \"->\", _y)  # 첫번째 행만 출력해 봄\n",
    "    data_X.append(_x)  # dataX 리스트에 추가\n",
    "    data_Y.append(_y)  # dataY 리스트에 추가\n",
    "    \n",
    "print(len(data_X),len(data_Y))"
   ]
  },
  {
   "cell_type": "code",
   "execution_count": 13,
   "metadata": {},
   "outputs": [],
   "source": [
    "# size\n",
    "train_size = int(len(data_Y) * 0.7)\n",
    "test_size = len(data_Y) - train_size\n",
    "\n",
    "# train\n",
    "train_X = np.array(data_X[0:train_size])\n",
    "train_Y = np.array(data_Y[0:train_size])\n",
    "\n",
    "# test\n",
    "test_X = np.array(data_X[train_size:len(data_X)])\n",
    "test_Y = np.array(data_Y[train_size:len(data_Y)])"
   ]
  },
  {
   "cell_type": "markdown",
   "metadata": {},
   "source": [
    "# MODELING\n",
    "### TensorFlow\n",
    "- TensorFlow placeholder"
   ]
  },
  {
   "cell_type": "code",
   "execution_count": 14,
   "metadata": {
    "scrolled": false
   },
   "outputs": [
    {
     "name": "stdout",
     "output_type": "stream",
     "text": [
      "X: Tensor(\"Placeholder:0\", shape=(?, 4, 3), dtype=float32)\n",
      "Y: Tensor(\"Placeholder_1:0\", shape=(?, 1), dtype=float32)\n",
      "targets: Tensor(\"Placeholder_2:0\", shape=(?, 1), dtype=float32)\n",
      "predictions: Tensor(\"Placeholder_3:0\", shape=(?, 1), dtype=float32)\n",
      "\n"
     ]
    }
   ],
   "source": [
    "X = tf.placeholder(tf.float32, [None, seq_length, input_data_cnt])\n",
    "Y = tf.placeholder(tf.float32, [None, 1])\n",
    "\n",
    "# 검증용 측정지표\n",
    "targets = tf.placeholder(tf.float32, [None, 1])\n",
    "predictions = tf.placeholder(tf.float32, [None, 1])\n",
    "\n",
    "print('X: {}\\nY: {}\\ntargets: {}\\npredictions: {}\\n'.format(X,Y,targets,predictions))"
   ]
  },
  {
   "cell_type": "markdown",
   "metadata": {},
   "source": [
    " - LSTM"
   ]
  },
  {
   "cell_type": "code",
   "execution_count": 15,
   "metadata": {},
   "outputs": [],
   "source": [
    "def lstm_cell():\n",
    "    # LSTM셀을 생성\n",
    "    # num_units: 각 Cell 출력 크기\n",
    "    # forget_bias:  to the biases of the forget gate\n",
    "    #              (default: 1)  in order to reduce the scale of forgetting in the beginning of the training.\n",
    "    # state_is_tuple: True ==> accepted and returned states are 2-tuples of the c_state and m_state.\n",
    "    # state_is_tuple: False ==> they are concatenated along the column axis.\n",
    "    cell = tf.contrib.rnn.BasicLSTMCell(num_units=rnn_cell_hidden_dim,\n",
    "                                        forget_bias=forget_bias, state_is_tuple=True, activation=tf.nn.relu)\n",
    "    if keep_prob < 1.0:\n",
    "        cell = tf.contrib.rnn.DropoutWrapper(cell, output_keep_prob=keep_prob)\n",
    "    return cell"
   ]
  },
  {
   "cell_type": "code",
   "execution_count": 16,
   "metadata": {},
   "outputs": [],
   "source": [
    "stackedRNNs = [lstm_cell() for _ in range(num_stacked_layers)]\n",
    "multi_cells = tf.contrib.rnn.MultiRNNCell(stackedRNNs, state_is_tuple=True) \\\n",
    "if num_stacked_layers > 1 else lstm_cell()"
   ]
  },
  {
   "cell_type": "code",
   "execution_count": 17,
   "metadata": {},
   "outputs": [
    {
     "name": "stdout",
     "output_type": "stream",
     "text": [
      "hypothesis:  Tensor(\"rnn/transpose_1:0\", shape=(?, 4, 10), dtype=float32)\n"
     ]
    }
   ],
   "source": [
    "# hypothesis\n",
    "\n",
    "hypothesis, _states = tf.nn.dynamic_rnn(multi_cells, X, dtype=tf.float32)\n",
    "print(\"hypothesis: \", hypothesis)\n",
    "\n",
    "hypothesis = tf.contrib.layers.fully_connected(hypothesis[:, -1], output_data_cnt, activation_fn=tf.identity)"
   ]
  },
  {
   "cell_type": "code",
   "execution_count": 18,
   "metadata": {},
   "outputs": [],
   "source": [
    "# loss\n",
    "\n",
    "loss = tf.reduce_sum(tf.square(hypothesis - Y))"
   ]
  },
  {
   "cell_type": "code",
   "execution_count": 19,
   "metadata": {},
   "outputs": [],
   "source": [
    "# optimizer\n",
    "\n",
    "optimizer = tf.train.AdamOptimizer(learning_rate)\n",
    "\n",
    "train = optimizer.minimize(loss)"
   ]
  },
  {
   "cell_type": "markdown",
   "metadata": {},
   "source": [
    " - RMSE"
   ]
  },
  {
   "cell_type": "code",
   "execution_count": 20,
   "metadata": {},
   "outputs": [],
   "source": [
    "# rmse\n",
    "\n",
    "rmse = tf.sqrt(tf.reduce_mean(tf.squared_difference(targets, predictions)))"
   ]
  },
  {
   "cell_type": "code",
   "execution_count": 21,
   "metadata": {},
   "outputs": [],
   "source": [
    "# recording\n",
    "\n",
    "train_error_summary = []\n",
    "test_error_summary = []\n",
    "test_predict = ''"
   ]
  },
  {
   "cell_type": "code",
   "execution_count": 22,
   "metadata": {},
   "outputs": [],
   "source": [
    "# Session\n",
    "\n",
    "sess = tf.Session()\n",
    "sess.run(tf.global_variables_initializer())"
   ]
  },
  {
   "cell_type": "code",
   "execution_count": 23,
   "metadata": {},
   "outputs": [
    {
     "name": "stdout",
     "output_type": "stream",
     "text": [
      "학습을 시작합니다...\n",
      "epoch: 100, train_error(A): 0.044685110449790955, test_error(B): 0.36909472942352295, B-A: 0.3244096040725708\n",
      "epoch: 200, train_error(A): 0.04368184134364128, test_error(B): 0.35667046904563904, B-A: 0.31298863887786865\n",
      "epoch: 300, train_error(A): 0.04270051419734955, test_error(B): 0.3384227454662323, B-A: 0.29572224617004395\n",
      "epoch: 400, train_error(A): 0.04194630682468414, test_error(B): 0.3163064122200012, B-A: 0.27436012029647827\n",
      "epoch: 500, train_error(A): 0.041322629898786545, test_error(B): 0.29102686047554016, B-A: 0.24970422685146332\n",
      "epoch: 600, train_error(A): 0.04076816514134407, test_error(B): 0.2656979560852051, B-A: 0.2249297946691513\n",
      "epoch: 700, train_error(A): 0.040265075862407684, test_error(B): 0.2428688108921051, B-A: 0.20260372757911682\n",
      "epoch: 800, train_error(A): 0.03978605568408966, test_error(B): 0.22132189571857452, B-A: 0.18153584003448486\n",
      "epoch: 900, train_error(A): 0.03935316577553749, test_error(B): 0.20204806327819824, B-A: 0.16269490122795105\n",
      "epoch: 1000, train_error(A): 0.03903261199593544, test_error(B): 0.18893246352672577, B-A: 0.14989985525608063\n",
      "epoch: 1100, train_error(A): 0.03885951638221741, test_error(B): 0.18384949862957, B-A: 0.1449899822473526\n",
      "epoch: 1200, train_error(A): 0.03872928023338318, test_error(B): 0.18380890786647797, B-A: 0.1450796276330948\n",
      "epoch: 1300, train_error(A): 0.03861266374588013, test_error(B): 0.1853349655866623, B-A: 0.14672230184078217\n",
      "epoch: 1400, train_error(A): 0.03851256147027016, test_error(B): 0.18902839720249176, B-A: 0.1505158394575119\n",
      "epoch: 1500, train_error(A): 0.0384216383099556, test_error(B): 0.19433315098285675, B-A: 0.15591150522232056\n",
      "epoch: 1600, train_error(A): 0.03833862394094467, test_error(B): 0.20111083984375, B-A: 0.16277220845222473\n",
      "epoch: 1700, train_error(A): 0.03825603052973747, test_error(B): 0.2082325518131256, B-A: 0.16997651755809784\n",
      "epoch: 1800, train_error(A): 0.03814554959535599, test_error(B): 0.21548590064048767, B-A: 0.17734035849571228\n",
      "epoch: 1900, train_error(A): 0.03803524374961853, test_error(B): 0.22354288399219513, B-A: 0.1855076402425766\n",
      "epoch: 2000, train_error(A): 0.03791980445384979, test_error(B): 0.23036645352840424, B-A: 0.19244664907455444\n",
      "epoch: 2100, train_error(A): 0.03779716044664383, test_error(B): 0.23693959414958954, B-A: 0.1991424262523651\n",
      "epoch: 2200, train_error(A): 0.0376586839556694, test_error(B): 0.24213306605815887, B-A: 0.20447438955307007\n",
      "epoch: 2300, train_error(A): 0.03750048577785492, test_error(B): 0.24669212102890015, B-A: 0.20919163525104523\n",
      "epoch: 2400, train_error(A): 0.037328194826841354, test_error(B): 0.25075969099998474, B-A: 0.2134314924478531\n",
      "epoch: 2500, train_error(A): 0.037142086774110794, test_error(B): 0.2541787326335907, B-A: 0.2170366495847702\n",
      "epoch: 2600, train_error(A): 0.036939602345228195, test_error(B): 0.2572292685508728, B-A: 0.2202896624803543\n",
      "epoch: 2700, train_error(A): 0.03670274093747139, test_error(B): 0.2588331997394562, B-A: 0.22213046252727509\n",
      "epoch: 2800, train_error(A): 0.036401957273483276, test_error(B): 0.2609614133834839, B-A: 0.2245594561100006\n",
      "epoch: 2900, train_error(A): 0.03598965331912041, test_error(B): 0.25840258598327637, B-A: 0.22241292893886566\n",
      "epoch: 3000, train_error(A): 0.03553237393498421, test_error(B): 0.2619462013244629, B-A: 0.22641383111476898\n",
      "epoch: 3100, train_error(A): 0.035168811678886414, test_error(B): 0.27282655239105225, B-A: 0.23765774071216583\n",
      "epoch: 3200, train_error(A): 0.03486663103103638, test_error(B): 0.2816759943962097, B-A: 0.24680936336517334\n",
      "epoch: 3300, train_error(A): 0.03463877737522125, test_error(B): 0.29208409786224365, B-A: 0.2574453353881836\n",
      "epoch: 3400, train_error(A): 0.03445108234882355, test_error(B): 0.2983155846595764, B-A: 0.26386451721191406\n",
      "epoch: 3500, train_error(A): 0.03428231179714203, test_error(B): 0.3012053072452545, B-A: 0.2669230103492737\n",
      "epoch: 3600, train_error(A): 0.0341070257127285, test_error(B): 0.3027096390724182, B-A: 0.2686026096343994\n",
      "epoch: 3700, train_error(A): 0.03392961993813515, test_error(B): 0.29901155829429626, B-A: 0.2650819420814514\n",
      "epoch: 3800, train_error(A): 0.033761199563741684, test_error(B): 0.29432564973831177, B-A: 0.2605644464492798\n",
      "epoch: 3900, train_error(A): 0.033598028123378754, test_error(B): 0.28806644678115845, B-A: 0.2544684112071991\n",
      "epoch: 4000, train_error(A): 0.03344554826617241, test_error(B): 0.28250235319137573, B-A: 0.24905680119991302\n",
      "epoch: 4100, train_error(A): 0.033287350088357925, test_error(B): 0.2734585106372833, B-A: 0.2401711642742157\n",
      "epoch: 4200, train_error(A): 0.033128686249256134, test_error(B): 0.2660684883594513, B-A: 0.23293980956077576\n",
      "epoch: 4300, train_error(A): 0.03296749293804169, test_error(B): 0.2598838806152344, B-A: 0.2269163876771927\n",
      "epoch: 4400, train_error(A): 0.03281592205166817, test_error(B): 0.25130096077919006, B-A: 0.2184850424528122\n",
      "epoch: 4500, train_error(A): 0.03267226368188858, test_error(B): 0.24295836687088013, B-A: 0.21028611063957214\n",
      "epoch: 4600, train_error(A): 0.032521940767765045, test_error(B): 0.23485873639583588, B-A: 0.20233678817749023\n",
      "epoch: 4700, train_error(A): 0.03236817568540573, test_error(B): 0.22756293416023254, B-A: 0.19519475102424622\n",
      "epoch: 4800, train_error(A): 0.03219188004732132, test_error(B): 0.22024448215961456, B-A: 0.18805259466171265\n",
      "epoch: 4900, train_error(A): 0.03202683478593826, test_error(B): 0.21438546478748322, B-A: 0.18235862255096436\n",
      "epoch: 5000, train_error(A): 0.031868625432252884, test_error(B): 0.20799073576927185, B-A: 0.17612211406230927\n",
      "elapsed_time: 0:00:08.408482\n",
      "elapsed_time per epoch: 0:00:00.001682\n"
     ]
    }
   ],
   "source": [
    "start_time = datetime.datetime.now()  # 시작시간을 기록한다\n",
    "print('학습을 시작합니다...')\n",
    "for epoch in range(epoch_num):\n",
    "    _, _loss = sess.run([train, loss], feed_dict={X: train_X, Y: train_Y})\n",
    "    if ((epoch + 1) % 100 == 0) or (epoch == epoch_num - 1):  # 100번째마다 또는 마지막 epoch인 경우\n",
    "        # 학습용데이터로 rmse오차를 구한다\n",
    "        train_predict = sess.run(hypothesis, feed_dict={X: train_X})\n",
    "        train_error = sess.run(rmse, feed_dict={targets: train_Y, predictions: train_predict})\n",
    "        train_error_summary.append(train_error)\n",
    "\n",
    "        # 테스트용데이터로 rmse오차를 구한다\n",
    "        test_predict = sess.run(hypothesis, feed_dict={X: test_X})\n",
    "        test_error = sess.run(rmse, feed_dict={targets: test_Y, predictions: test_predict})\n",
    "        test_error_summary.append(test_error)\n",
    "\n",
    "        # 현재 오류를 출력한다\n",
    "        print(\"epoch: {}, train_error(A): {}, test_error(B): {}, B-A: {}\".format(epoch + 1, train_error, test_error,\n",
    "                                                                                 test_error - train_error))\n",
    "        \n",
    "        \n",
    "end_time = datetime.datetime.now()\n",
    "elapsed_time = end_time - start_time\n",
    "\n",
    "print('elapsed_time:', elapsed_time)\n",
    "print('elapsed_time per epoch:', elapsed_time / epoch_num)"
   ]
  },
  {
   "cell_type": "code",
   "execution_count": 24,
   "metadata": {},
   "outputs": [
    {
     "name": "stdout",
     "output_type": "stream",
     "text": [
      "input_data_cnt: 3\n",
      ",output_data_cnt: 1\n",
      ",seq_length: 4\n",
      ",rnn_cell_hidden_dim: 10\n",
      ",forget_bias: 1.0\n",
      ",num_stacked_layers: 1\n",
      ",keep_prob: 1.0\n",
      ",epoch_num: 5000\n",
      ",learning_rate: 0.001\n",
      ",train_error: 0.031868625\n",
      ",test_error: 0.20799074\n",
      ",min_test_error: 0.18380891\n"
     ]
    }
   ],
   "source": [
    "# Output Parameter\n",
    "\n",
    "print('input_data_cnt:', input_data_cnt, end='\\n')\n",
    "print(',output_data_cnt:', output_data_cnt, end='\\n')\n",
    "\n",
    "print(',seq_length:', seq_length, end='\\n')\n",
    "print(',rnn_cell_hidden_dim:', rnn_cell_hidden_dim, end='\\n')\n",
    "print(',forget_bias:', forget_bias, end='\\n')\n",
    "print(',num_stacked_layers:', num_stacked_layers, end='\\n')\n",
    "print(',keep_prob:', keep_prob, end='\\n')\n",
    "\n",
    "print(',epoch_num:', epoch_num, end='\\n')\n",
    "print(',learning_rate:', learning_rate, end='\\n')\n",
    "\n",
    "print(',train_error:', train_error_summary[-1], end='\\n')\n",
    "print(',test_error:', test_error_summary[-1], end='\\n')\n",
    "print(',min_test_error:', np.min(test_error_summary))"
   ]
  },
  {
   "cell_type": "code",
   "execution_count": 25,
   "metadata": {},
   "outputs": [
    {
     "data": {
      "image/png": "[encoded data removed]",
      "text/plain": [
       "<Figure size 432x288 with 1 Axes>"
      ]
     },
     "metadata": {
      "needs_background": "light"
     },
     "output_type": "display_data"
    },
    {
     "data": {
      "image/png": "[encoded data removed]",
      "text/plain": [
       "<Figure size 432x288 with 1 Axes>"
      ]
     },
     "metadata": {
      "needs_background": "light"
     },
     "output_type": "display_data"
    }
   ],
   "source": [
    "plt.figure(1)\n",
    "plt.plot(train_error_summary, 'gold')\n",
    "plt.plot(test_error_summary, 'b')\n",
    "plt.xlabel('Epoch(x100)')\n",
    "plt.ylabel('Root Mean Square Error')\n",
    "\n",
    "plt.figure(2)\n",
    "plt.plot(test_Y, 'r')\n",
    "plt.plot(test_predict, 'b')\n",
    "plt.xlabel('Time Period')\n",
    "plt.ylabel('def_count')\n",
    "plt.show()"
   ]
  },
  {
   "cell_type": "code",
   "execution_count": null,
   "metadata": {},
   "outputs": [],
   "source": []
  }
 ],
 "metadata": {
  "kernelspec": {
   "display_name": "Python 3",
   "language": "python",
   "name": "python3"
  },
  "language_info": {
   "codemirror_mode": {
    "name": "ipython",
    "version": 3
   },
   "file_extension": ".py",
   "mimetype": "text/x-python",
   "name": "python",
   "nbconvert_exporter": "python",
   "pygments_lexer": "ipython3",
   "version": "3.6.10"
  }
 },
 "nbformat": 4,
 "nbformat_minor": 4
}
