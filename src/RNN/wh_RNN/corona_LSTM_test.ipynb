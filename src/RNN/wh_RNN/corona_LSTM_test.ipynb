{
 "cells": [
  {
   "cell_type": "markdown",
   "metadata": {},
   "source": [
    "# INFOMATION\n",
    "\n",
    "### python info\n",
    " - Version : 3.6.10\n",
    " - Anaconda ver 4.8.2\n",
    " \n",
    "### package info\n",
    " - tensorflow ver 1.8.0\n",
    " - numpy ver 1.16.4\n",
    " - pandas ver 0.22.0"
   ]
  },
  {
   "cell_type": "code",
   "execution_count": 1,
   "metadata": {},
   "outputs": [],
   "source": [
    "import tensorflow as tf\n",
    "import numpy as np\n",
    "import pandas as pd\n",
    "import datetime\n",
    "import matplotlib.pyplot as plt\n",
    "import qgrid"
   ]
  },
  {
   "cell_type": "markdown",
   "metadata": {},
   "source": [
    "# SETTING\n",
    "\n",
    " ### tuning\n",
    "  - hyper parameter 튜닝\n",
    "  "
   ]
  },
  {
   "cell_type": "code",
   "execution_count": 2,
   "metadata": {},
   "outputs": [],
   "source": [
    "tf.set_random_seed(777)"
   ]
  },
  {
   "cell_type": "markdown",
   "metadata": {},
   "source": [
    "### Funtion\n",
    " - Standardization\n",
    "     >\n",
    " - Min-Max scaling\n",
    "     > 최소값과 최대값을 이용하여 0~1사이의 값으로 변환한다.\n",
    "     \n",
    " - reverse_min_max_scalin\n",
    "     > Min-Max scaling을 역 정규화 한다."
   ]
  },
  {
   "cell_type": "code",
   "execution_count": 3,
   "metadata": {},
   "outputs": [],
   "source": [
    "# Standardization\n",
    "def data_standardization(x):\n",
    "    x_np = np.asarray(x)\n",
    "    return (x_np - x_np.mean()) / x_np.std()\n",
    "\n",
    "# Min-Max scaling\n",
    "def min_max_scaling(x):\n",
    "    x_np = np.asarray(x)\n",
    "    return (x_np - x_np.min()) / (x_np.max() - x_np.min() + 1e-7)\n",
    "\n",
    "# reverse_min_max_scaling\n",
    "def reverse_min_max_scaling(org_x, x):\n",
    "    org_x_np = np.asarray(org_x)\n",
    "    x_np = np.asarray(x)\n",
    "    return (x_np * (org_x_np.max() - org_x_np.min() + 1e-7)) + org_x_np.min()"
   ]
  },
  {
   "cell_type": "markdown",
   "metadata": {},
   "source": [
    "### Variable\n",
    " - hyper parameter"
   ]
  },
  {
   "cell_type": "code",
   "execution_count": 4,
   "metadata": {},
   "outputs": [],
   "source": [
    "input_data_cnt = 3  # 입력데이터의 컬럼 개수\n",
    "output_data_cnt = 1  # 결과데이터의 컬럼 개수\n",
    "\n",
    "seq_length = 5  # 1개 시퀀스의 길이(시계열데이터 입력 개수)\n",
    "rnn_cell_hidden_dim = 15  # 각 셀의 (hidden)출력 크기\n",
    "forget_bias = 1.0  # 망각편향(기본값 1.0)\n",
    "num_stacked_layers = 1  # stacked LSTM layers 개수\n",
    "keep_prob = 1.0  # dropout할 때 keep할 비율\n",
    "\n",
    "epoch_num = 1200  # 에폭 횟수(학습용전체데이터를 몇 회 반복해서 학습할 것인가 입력)\n",
    "learning_rate = 0.001  # 학습률"
   ]
  },
  {
   "cell_type": "markdown",
   "metadata": {},
   "source": [
    " - load data"
   ]
  },
  {
   "cell_type": "code",
   "execution_count": 5,
   "metadata": {},
   "outputs": [
    {
     "data": {
      "application/vnd.jupyter.widget-view+json": {
       "model_id": "adec7a6bfd244a1aab0521f69004b8dc",
       "version_major": 2,
       "version_minor": 0
      },
      "text/plain": [
       "QgridWidget(grid_options={'fullWidthRows': True, 'syncColumnCellResize': True, 'forceFitColumns': True, 'defau…"
      ]
     },
     "metadata": {},
     "output_type": "display_data"
    }
   ],
   "source": [
    "path = ''\n",
    "file_name = 'test_kk.csv' \n",
    "encoding = 'UTP-8'  # 문자 인코딩\n",
    "\n",
    "raw_dataframe = pd.read_csv(path+file_name)\n",
    "\n",
    "qgrid.show_grid(raw_dataframe,show_toolbar=True)"
   ]
  },
  {
   "cell_type": "code",
   "execution_count": 6,
   "metadata": {
    "scrolled": true
   },
   "outputs": [
    {
     "data": {
      "text/html": [
       "<div>\n",
       "<style scoped>\n",
       "    .dataframe tbody tr th:only-of-type {\n",
       "        vertical-align: middle;\n",
       "    }\n",
       "\n",
       "    .dataframe tbody tr th {\n",
       "        vertical-align: top;\n",
       "    }\n",
       "\n",
       "    .dataframe thead th {\n",
       "        text-align: right;\n",
       "    }\n",
       "</style>\n",
       "<table border=\"1\" class=\"dataframe\">\n",
       "  <thead>\n",
       "    <tr style=\"text-align: right;\">\n",
       "      <th></th>\n",
       "      <th>examcnt</th>\n",
       "      <th>spread</th>\n",
       "      <th>policy</th>\n",
       "      <th>cnt</th>\n",
       "    </tr>\n",
       "  </thead>\n",
       "  <tbody>\n",
       "    <tr>\n",
       "      <th>0</th>\n",
       "      <td>119</td>\n",
       "      <td>0.035</td>\n",
       "      <td>0.0</td>\n",
       "      <td>1</td>\n",
       "    </tr>\n",
       "    <tr>\n",
       "      <th>1</th>\n",
       "      <td>55</td>\n",
       "      <td>0.035</td>\n",
       "      <td>0.0</td>\n",
       "      <td>1</td>\n",
       "    </tr>\n",
       "    <tr>\n",
       "      <th>2</th>\n",
       "      <td>105</td>\n",
       "      <td>0.035</td>\n",
       "      <td>0.0</td>\n",
       "      <td>1</td>\n",
       "    </tr>\n",
       "  </tbody>\n",
       "</table>\n",
       "</div>"
      ],
      "text/plain": [
       "   examcnt  spread  policy  cnt\n",
       "0      119   0.035     0.0    1\n",
       "1       55   0.035     0.0    1\n",
       "2      105   0.035     0.0    1"
      ]
     },
     "execution_count": 6,
     "metadata": {},
     "output_type": "execute_result"
    }
   ],
   "source": [
    "# 시계열 데이터 제거\n",
    "del raw_dataframe['date']\n",
    "# del raw_dataframe['policy']\n",
    "\n",
    "raw_dataframe[0:3]"
   ]
  },
  {
   "cell_type": "code",
   "execution_count": 7,
   "metadata": {},
   "outputs": [
    {
     "data": {
      "text/plain": [
       "array([[5.50e+01, 3.50e-02, 0.00e+00, 1.00e+00],\n",
       "       [1.05e+02, 3.50e-02, 0.00e+00, 1.00e+00],\n",
       "       [4.98e+02, 3.50e-02, 0.00e+00, 1.00e+00]])"
      ]
     },
     "execution_count": 7,
     "metadata": {},
     "output_type": "execute_result"
    }
   ],
   "source": [
    "# 부동소수점형으로 변환\n",
    "info = raw_dataframe.values[1:].astype(np.float)\n",
    "\n",
    "info[0:3]"
   ]
  },
  {
   "cell_type": "markdown",
   "metadata": {},
   "source": [
    " - preprocessing"
   ]
  },
  {
   "cell_type": "code",
   "execution_count": 8,
   "metadata": {},
   "outputs": [
    {
     "data": {
      "text/plain": [
       "array([[2.35556127e-03, 1.49899353e-06, 0.00000000e+00],\n",
       "       [4.49698060e-03, 1.49899353e-06, 0.00000000e+00],\n",
       "       [2.13285366e-02, 1.49899353e-06, 0.00000000e+00],\n",
       "       [2.19281340e-02, 1.49899353e-06, 0.00000000e+00],\n",
       "       [4.50982911e-02, 3.42627093e-07, 0.00000000e+00],\n",
       "       [8.46288920e-02, 1.49899353e-06, 0.00000000e+00],\n",
       "       [1.32682342e-01, 2.99798707e-06, 0.00000000e+00],\n",
       "       [2.12300313e-01, 5.18223479e-06, 0.00000000e+00],\n",
       "       [1.89472783e-01, 1.49899353e-05, 0.00000000e+00],\n",
       "       [2.71788942e-01, 1.23345754e-05, 0.00000000e+00],\n",
       "       [3.17101375e-01, 8.99396120e-06, 0.00000000e+00],\n",
       "       [5.55270033e-01, 1.23345754e-05, 0.00000000e+00],\n",
       "       [5.39380702e-01, 1.60178166e-05, 0.00000000e+00],\n",
       "       [5.97199024e-01, 9.67921538e-06, 0.00000000e+00],\n",
       "       [5.17152769e-01, 1.41761960e-05, 0.00000000e+00],\n",
       "       [1.83305495e-01, 2.99798707e-06, 0.00000000e+00],\n",
       "       [4.36592574e-01, 2.99798707e-06, 0.00000000e+00],\n",
       "       [6.70692535e-01, 1.19919483e-05, 0.00000000e+00],\n",
       "       [4.42845518e-01, 1.49899353e-05, 0.00000000e+00],\n",
       "       [4.02415521e-01, 1.53325624e-05, 0.00000000e+00],\n",
       "       [7.57248704e-01, 1.68315560e-05, 0.00000000e+00],\n",
       "       [5.55312861e-01, 7.83759476e-06, 0.00000000e+00],\n",
       "       [4.26656388e-01, 1.18634631e-05, 0.00000000e+00],\n",
       "       [3.36288492e-01, 1.45188231e-05, 0.00000000e+00],\n",
       "       [5.73686239e-01, 1.49899353e-05, 0.00000000e+00],\n",
       "       [5.14326095e-01, 7.49496766e-06, 0.00000000e+00],\n",
       "       [5.34883721e-01, 4.02586835e-06, 0.00000000e+00],\n",
       "       [5.79853527e-01, 1.90158037e-05, 0.00000000e+00],\n",
       "       [5.38823933e-01, 1.15208360e-05, 0.00000000e+00],\n",
       "       [2.91275858e-01, 1.92299456e-05, 0.00000000e+00],\n",
       "       [2.66306908e-01, 3.40913958e-05, 0.00000000e+00],\n",
       "       [5.19422673e-01, 1.60178166e-05, 0.00000000e+00],\n",
       "       [3.78517281e-01, 2.20137907e-05, 0.00000000e+00],\n",
       "       [4.80748640e-01, 1.23345754e-05, 0.00000000e+00],\n",
       "       [4.09139578e-01, 1.00218425e-05, 0.00000000e+00],\n",
       "       [4.58178080e-01, 1.55467044e-05, 0.00000000e+00],\n",
       "       [1.78722858e-01, 9.55073022e-06, 6.42425800e-05],\n",
       "       [2.65193370e-01, 7.70910960e-06, 6.42425800e-05],\n",
       "       [4.48413208e-01, 2.05147972e-05, 6.42425800e-05],\n",
       "       [3.94620755e-01, 1.26772024e-05, 6.42425800e-05],\n",
       "       [2.97314660e-01, 1.45188231e-05, 6.42425800e-05],\n",
       "       [5.10856996e-01, 1.30198295e-05, 6.42425800e-05],\n",
       "       [4.63317487e-01, 1.08355818e-05, 6.42425800e-05],\n",
       "       [2.61724271e-01, 6.33860122e-06, 6.42425800e-05],\n",
       "       [4.17576770e-02, 6.68122832e-06, 6.42425800e-05],\n",
       "       [6.52918755e-01, 1.43903379e-05, 6.42425800e-05],\n",
       "       [4.66058504e-01, 1.15208360e-05, 6.42425800e-05],\n",
       "       [4.32866504e-01, 1.69172127e-05, 6.42425800e-05],\n",
       "       [4.90128057e-01, 1.75168101e-05, 6.42425800e-05],\n",
       "       [4.99593130e-01, 8.18022185e-06, 6.42425800e-05],\n",
       "       [2.62109726e-01, 3.68324125e-06, 6.42425800e-05],\n",
       "       [2.36584008e-01, 6.68122832e-06, 6.42425800e-05],\n",
       "       [4.47685126e-01, 6.33860122e-06, 6.42425800e-05],\n",
       "       [3.70294231e-01, 3.68324125e-06, 6.42425800e-05],\n",
       "       [3.71279284e-01, 7.49496766e-06, 6.42425800e-05],\n",
       "       [3.56032378e-01, 6.68122832e-06, 6.42425800e-05],\n",
       "       [3.16844404e-01, 5.18223479e-06, 6.42425800e-05],\n",
       "       [1.75467900e-01, 8.99396120e-06, 6.42425800e-05],\n",
       "       [3.71236456e-01, 3.34061416e-06, 6.42425800e-05],\n",
       "       [3.03524776e-01, 1.49899353e-06, 6.42425800e-05],\n",
       "       [1.79922052e-01, 1.49899353e-06, 6.42425800e-05],\n",
       "       [3.28322412e-01, 3.68324125e-06, 6.42425800e-05],\n",
       "       [1.82748726e-01, 3.42627093e-07, 6.42425800e-05],\n",
       "       [1.67587477e-01, 1.49899353e-06, 4.28283867e-05],\n",
       "       [2.96972033e-01, 3.42627093e-07, 4.28283867e-05],\n",
       "       [2.57141633e-01, 1.49899353e-06, 4.28283867e-05],\n",
       "       [2.37397747e-01, 2.99798707e-06, 4.28283867e-05],\n",
       "       [2.41166645e-01, 3.42627093e-07, 4.28283867e-05],\n",
       "       [1.33367596e-01, 1.49899353e-06, 4.28283867e-05],\n",
       "       [2.92946165e-01, 1.49899353e-06, 4.28283867e-05],\n",
       "       [1.22317872e-01, 1.49899353e-06, 4.28283867e-05],\n",
       "       [2.69347724e-01, 1.49899353e-06, 4.28283867e-05],\n",
       "       [2.33971476e-01, 3.34061416e-06, 4.28283867e-05],\n",
       "       [2.20523363e-01, 7.83759476e-06, 4.28283867e-05],\n",
       "       [1.63690094e-01, 3.68324125e-06, 4.28283867e-05],\n",
       "       [1.95768555e-01, 7.36648250e-06, 4.28283867e-05],\n",
       "       [5.29829971e-01, 1.49899353e-06, 4.28283867e-05],\n",
       "       [6.42597113e-01, 6.68122832e-06, 4.28283867e-05],\n",
       "       [6.65338987e-01, 2.99798707e-06, 4.28283867e-05],\n",
       "       [6.52533299e-01, 1.49899353e-06, 4.28283867e-05],\n",
       "       [5.94415178e-01, 1.49899353e-06, 4.28283867e-05],\n",
       "       [2.99584565e-01, 1.49899353e-06, 4.28283867e-05],\n",
       "       [2.37397747e-01, 2.99798707e-06, 4.28283867e-05],\n",
       "       [5.28930575e-01, 6.68122832e-06, 4.28283867e-05],\n",
       "       [4.63702942e-01, 5.99597413e-06, 4.28283867e-05],\n",
       "       [5.24176624e-01, 3.34061416e-06, 4.28283867e-05],\n",
       "       [5.87348495e-01, 1.60178166e-05, 4.28283867e-05],\n",
       "       [5.13041244e-01, 7.49496766e-06, 4.28283867e-05],\n",
       "       [2.50289092e-01, 7.49496766e-06, 4.28283867e-05],\n",
       "       [2.62623667e-01, 2.99798707e-06, 4.28283867e-05],\n",
       "       [5.57582766e-01, 6.33860122e-06, 4.28283867e-05],\n",
       "       [5.72230074e-01, 2.91661313e-05, 4.28283867e-05],\n",
       "       [6.72876783e-01, 1.85446914e-05, 4.28283867e-05],\n",
       "       [7.02214228e-01, 9.55073022e-06, 4.28283867e-05],\n",
       "       [7.59861236e-01, 8.18022185e-06, 4.28283867e-05],\n",
       "       [3.38087284e-01, 1.41761960e-05, 4.28283867e-05],\n",
       "       [4.51154225e-01, 1.63604437e-05, 4.28283867e-05],\n",
       "       [7.88984539e-01, 1.22060902e-05, 4.28283867e-05],\n",
       "       [7.26026811e-01, 1.45188231e-05, 4.28283867e-05],\n",
       "       [7.26669236e-01, 1.00218425e-05, 4.28283867e-05],\n",
       "       [7.30780761e-01, 6.68122832e-06, 4.28283867e-05],\n",
       "       [6.12188959e-01, 2.61681442e-05, 4.28283867e-05],\n",
       "       [3.17229860e-01, 9.33658829e-06, 4.28283867e-05],\n",
       "       [2.31573087e-01, 1.48614502e-05, 4.28283867e-05],\n",
       "       [7.59989721e-01, 3.13503790e-05, 4.28283867e-05],\n",
       "       [6.82042057e-01, 1.18634631e-05, 4.28283867e-05],\n",
       "       [6.36900938e-01, 2.12000514e-05, 4.28283867e-05],\n",
       "       [6.22853227e-01, 1.83305495e-05, 4.28283867e-05],\n",
       "       [5.64007024e-01, 1.15208360e-05, 4.28283867e-05],\n",
       "       [2.39410681e-01, 5.99597413e-06, 4.28283867e-05],\n",
       "       [2.29346011e-01, 4.83960769e-06, 4.28283867e-05],\n",
       "       [6.00197011e-01, 1.83305495e-05, 4.28283867e-05],\n",
       "       [5.57325796e-01, 1.37050837e-05, 4.28283867e-05],\n",
       "       [5.49488201e-01, 1.11782089e-05, 4.28283867e-05],\n",
       "       [5.26874813e-01, 1.15208360e-05, 4.28283867e-05],\n",
       "       [5.46961326e-01, 1.18634631e-05, 4.28283867e-05],\n",
       "       [2.36155724e-01, 1.84162063e-06, 4.28283867e-05],\n",
       "       [2.39239368e-01, 2.99798707e-06, 4.28283867e-05],\n",
       "       [5.95314574e-01, 8.18022185e-06, 4.28283867e-05],\n",
       "       [5.36810998e-01, 7.83759476e-06, 4.28283867e-05],\n",
       "       [5.07644867e-01, 4.49698060e-06, 4.28283867e-05],\n",
       "       [5.05289306e-01, 8.73699088e-06, 4.28283867e-05],\n",
       "       [4.88843205e-01, 1.75168101e-05, 4.28283867e-05],\n",
       "       [3.36331320e-01, 1.71741830e-05, 4.28283867e-05],\n",
       "       [3.51920853e-01, 9.33658829e-06, 4.28283867e-05],\n",
       "       [5.89704056e-01, 1.41761960e-05, 4.28283867e-05],\n",
       "       [4.88886034e-01, 5.99597413e-06, 4.28283867e-05],\n",
       "       [4.57278684e-01, 2.08574243e-05, 4.28283867e-05],\n",
       "       [5.02633946e-01, 1.33624566e-05, 4.28283867e-05],\n",
       "       [5.01049295e-01, 3.68324125e-06, 4.28283867e-05],\n",
       "       [2.77228147e-01, 6.68122832e-06, 4.28283867e-05],\n",
       "       [2.43822005e-01, 8.99396120e-06, 4.28283867e-05],\n",
       "       [6.14758662e-01, 1.07070967e-05, 4.28283867e-05],\n",
       "       [5.77240995e-01, 1.49899353e-06, 4.28283867e-05],\n",
       "       [5.13383871e-01, 3.34061416e-06, 4.28283867e-05],\n",
       "       [5.59938327e-01, 4.49698060e-06, 4.28283867e-05],\n",
       "       [5.14625894e-01, 1.00218425e-05, 4.28283867e-05],\n",
       "       [2.20951647e-01, 1.49899353e-06, 4.28283867e-05],\n",
       "       [2.61510129e-01, 5.99597413e-06, 4.28283867e-05],\n",
       "       [5.25547133e-01, 3.34061416e-06, 4.28283867e-05],\n",
       "       [4.56593430e-01, 3.34061416e-06, 4.28283867e-05],\n",
       "       [4.27041843e-01, 6.33860122e-06, 4.28283867e-05],\n",
       "       [4.11537967e-01, 2.99798707e-06, 4.28283867e-05],\n",
       "       [2.08488586e-01, 1.49899353e-06, 4.28283867e-05],\n",
       "       [5.20450555e-01, 1.08355818e-05, 4.28283867e-05],\n",
       "       [4.11923423e-01, 1.62319585e-05, 4.28283867e-05],\n",
       "       [3.73634845e-01, 5.18223479e-06, 4.28283867e-05],\n",
       "       [4.03957343e-01, 9.55073022e-06, 4.28283867e-05],\n",
       "       [3.50935800e-01, 5.18223479e-06, 4.28283867e-05],\n",
       "       [1.81335389e-01, 1.84162063e-06, 4.28283867e-05],\n",
       "       [1.72298600e-01, 1.49899353e-06, 4.28283867e-05],\n",
       "       [4.58349394e-01, 4.02586835e-06, 4.28283867e-05],\n",
       "       [4.09225234e-01, 5.99597413e-06, 4.28283867e-05],\n",
       "       [3.80744357e-01, 3.68324125e-06, 4.28283867e-05],\n",
       "       [3.23140177e-01, 7.49496766e-06, 4.28283867e-05],\n",
       "       [3.42755578e-01, 1.49899353e-06, 4.28283867e-05],\n",
       "       [1.87845304e-01, 1.49899353e-06, 4.28283867e-05],\n",
       "       [1.49385413e-01, 3.34061416e-06, 4.28283867e-05],\n",
       "       [4.27812754e-01, 6.85254186e-07, 4.28283867e-05],\n",
       "       [3.58644910e-01, 1.30198295e-05, 4.28283867e-05],\n",
       "       [3.53633989e-01, 5.18223479e-06, 4.28283867e-05],\n",
       "       [3.06008823e-01, 1.30198295e-05, 4.28283867e-05],\n",
       "       [2.92046769e-01, 1.40477108e-05, 4.28283867e-05],\n",
       "       [1.75596385e-01, 3.68324125e-06, 4.28283867e-05],\n",
       "       [1.55252902e-01, 8.18022185e-06, 4.28283867e-05],\n",
       "       [4.07169472e-01, 2.73245107e-05, 4.28283867e-05],\n",
       "       [3.74919697e-01, 1.85446914e-05, 4.28283867e-05],\n",
       "       [3.50764487e-01, 4.62118292e-05, 4.28283867e-05],\n",
       "       [4.31838623e-01, 1.19576856e-04, 4.28283867e-05],\n",
       "       [4.30253972e-01, 8.20163604e-05, 4.28283867e-05],\n",
       "       [2.66049938e-01, 6.94248148e-05, 4.28283867e-05],\n",
       "       [2.77784916e-01, 5.81609491e-05, 4.28283867e-05],\n",
       "       [3.56589147e-01, 9.02822391e-05, 8.56567733e-05],\n",
       "       [7.59133153e-01, 1.09212386e-04, 8.56567733e-05],\n",
       "       [8.02218510e-01, 1.11953403e-04, 8.56567733e-05],\n",
       "       [8.44404471e-01, 1.06557026e-04, 8.56567733e-05],\n",
       "       [9.14171913e-01, 1.39063771e-04, 8.56567733e-05],\n",
       "       [6.41954688e-01, 8.39864662e-05, 8.56567733e-05],\n",
       "       [5.55484175e-01, 7.21230031e-05, 8.56567733e-05],\n",
       "       [9.05177952e-01, 1.00946507e-04, 8.56567733e-05],\n",
       "       [1.00000000e+00, 1.22403529e-04, 8.56567733e-05],\n",
       "       [8.40806887e-01, 1.27500107e-04, 8.56567733e-05],\n",
       "       [7.60931946e-01, 8.77125359e-05, 8.56567733e-05],\n",
       "       [9.11773523e-01, 1.01289134e-04, 8.56567733e-05],\n",
       "       [6.22810399e-01, 6.58700587e-05, 1.07070967e-04],\n",
       "       [5.68375519e-01, 6.03451968e-05, 1.07070967e-04],\n",
       "       [9.06077348e-01, 1.00475395e-04, 1.07070967e-04],\n",
       "       [8.97169044e-01, 7.94038289e-05, 1.07070967e-04],\n",
       "       [8.59223093e-01, 6.14159065e-05, 1.07070967e-04],\n",
       "       [7.77592188e-01, 4.24857596e-05, 1.07070967e-04],\n",
       "       [7.69668937e-01, 5.50773052e-05, 1.07070967e-04],\n",
       "       [3.73592017e-01, 3.30635145e-05, 1.07070967e-04],\n",
       "       [2.24549231e-01, 4.00873699e-05, 1.07070967e-04],\n",
       "       [6.27221723e-01, 5.20793182e-05, 1.07070967e-04],\n",
       "       [6.85254186e-01, 5.18223479e-05, 1.07070967e-04],\n",
       "       [7.36733907e-01, 5.07944666e-05, 1.07070967e-04],\n",
       "       [8.32755150e-01, 3.28493726e-05, 1.07070967e-04],\n",
       "       [6.89965309e-01, 3.15645210e-05, 1.07070967e-04],\n",
       "       [3.29435950e-01, 3.88453467e-05, 1.07070967e-04],\n",
       "       [3.26480791e-01, 3.34061416e-05, 8.56567733e-05],\n",
       "       [5.76898368e-01, 3.01940126e-05, 8.56567733e-05]])"
      ]
     },
     "execution_count": 8,
     "metadata": {},
     "output_type": "execute_result"
    }
   ],
   "source": [
    "# X Data\n",
    "x_info = info[:,:-1]\n",
    "# :1 = examcnt , 1:2 = spread , 2:3 = \n",
    "\n",
    "\n",
    "\n",
    "scaling_x = min_max_scaling(x_info)\n",
    "\n",
    "scaling_x"
   ]
  },
  {
   "cell_type": "code",
   "execution_count": 9,
   "metadata": {},
   "outputs": [
    {
     "data": {
      "text/plain": [
       "array([[0.        ],\n",
       "       [0.        ],\n",
       "       [0.        ],\n",
       "       [0.        ],\n",
       "       [0.        ],\n",
       "       [0.        ],\n",
       "       [0.00833333],\n",
       "       [0.05      ],\n",
       "       [0.075     ],\n",
       "       [0.06666667],\n",
       "       [0.04166667],\n",
       "       [0.06666667],\n",
       "       [0.1       ],\n",
       "       [0.05833333],\n",
       "       [0.08333333],\n",
       "       [0.00833333],\n",
       "       [0.00833333],\n",
       "       [0.05833333],\n",
       "       [0.075     ],\n",
       "       [0.08333333],\n",
       "       [0.1       ],\n",
       "       [0.04166667],\n",
       "       [0.09166667],\n",
       "       [0.09166667],\n",
       "       [0.075     ],\n",
       "       [0.03333333],\n",
       "       [0.03333333],\n",
       "       [0.11666667],\n",
       "       [0.075     ],\n",
       "       [0.15      ],\n",
       "       [0.25833333],\n",
       "       [0.1       ],\n",
       "       [0.13333333],\n",
       "       [0.06666667],\n",
       "       [0.06666667],\n",
       "       [0.11666667],\n",
       "       [0.08333333],\n",
       "       [0.06666667],\n",
       "       [0.125     ],\n",
       "       [0.075     ],\n",
       "       [0.09166667],\n",
       "       [0.08333333],\n",
       "       [0.05833333],\n",
       "       [0.03333333],\n",
       "       [0.04166667],\n",
       "       [0.11666667],\n",
       "       [0.075     ],\n",
       "       [0.15      ],\n",
       "       [0.10833333],\n",
       "       [0.05      ],\n",
       "       [0.025     ],\n",
       "       [0.04166667],\n",
       "       [0.03333333],\n",
       "       [0.025     ],\n",
       "       [0.03333333],\n",
       "       [0.04166667],\n",
       "       [0.03333333],\n",
       "       [0.04166667],\n",
       "       [0.01666667],\n",
       "       [0.        ],\n",
       "       [0.        ],\n",
       "       [0.025     ],\n",
       "       [0.        ],\n",
       "       [0.        ],\n",
       "       [0.        ],\n",
       "       [0.        ],\n",
       "       [0.00833333],\n",
       "       [0.        ],\n",
       "       [0.        ],\n",
       "       [0.        ],\n",
       "       [0.        ],\n",
       "       [0.        ],\n",
       "       [0.01666667],\n",
       "       [0.04166667],\n",
       "       [0.025     ],\n",
       "       [0.05833333],\n",
       "       [0.        ],\n",
       "       [0.04166667],\n",
       "       [0.00833333],\n",
       "       [0.        ],\n",
       "       [0.        ],\n",
       "       [0.        ],\n",
       "       [0.00833333],\n",
       "       [0.04166667],\n",
       "       [0.025     ],\n",
       "       [0.01666667],\n",
       "       [0.1       ],\n",
       "       [0.03333333],\n",
       "       [0.03333333],\n",
       "       [0.00833333],\n",
       "       [0.03333333],\n",
       "       [0.16666667],\n",
       "       [0.15      ],\n",
       "       [0.09166667],\n",
       "       [0.05      ],\n",
       "       [0.08333333],\n",
       "       [0.11666667],\n",
       "       [0.09166667],\n",
       "       [0.09166667],\n",
       "       [0.06666667],\n",
       "       [0.04166667],\n",
       "       [0.15      ],\n",
       "       [0.05      ],\n",
       "       [0.1       ],\n",
       "       [0.19166667],\n",
       "       [0.08333333],\n",
       "       [0.14166667],\n",
       "       [0.1       ],\n",
       "       [0.075     ],\n",
       "       [0.04166667],\n",
       "       [0.025     ],\n",
       "       [0.1       ],\n",
       "       [0.1       ],\n",
       "       [0.06666667],\n",
       "       [0.075     ],\n",
       "       [0.08333333],\n",
       "       [0.00833333],\n",
       "       [0.00833333],\n",
       "       [0.05      ],\n",
       "       [0.04166667],\n",
       "       [0.01666667],\n",
       "       [0.1       ],\n",
       "       [0.10833333],\n",
       "       [0.1       ],\n",
       "       [0.05      ],\n",
       "       [0.08333333],\n",
       "       [0.025     ],\n",
       "       [0.13333333],\n",
       "       [0.1       ],\n",
       "       [0.025     ],\n",
       "       [0.04166667],\n",
       "       [0.04166667],\n",
       "       [0.08333333],\n",
       "       [0.        ],\n",
       "       [0.01666667],\n",
       "       [0.01666667],\n",
       "       [0.06666667],\n",
       "       [0.        ],\n",
       "       [0.025     ],\n",
       "       [0.01666667],\n",
       "       [0.01666667],\n",
       "       [0.03333333],\n",
       "       [0.00833333],\n",
       "       [0.        ],\n",
       "       [0.05833333],\n",
       "       [0.13333333],\n",
       "       [0.03333333],\n",
       "       [0.08333333],\n",
       "       [0.03333333],\n",
       "       [0.00833333],\n",
       "       [0.        ],\n",
       "       [0.03333333],\n",
       "       [0.025     ],\n",
       "       [0.025     ],\n",
       "       [0.03333333],\n",
       "       [0.        ],\n",
       "       [0.        ],\n",
       "       [0.01666667],\n",
       "       [0.00833333],\n",
       "       [0.08333333],\n",
       "       [0.03333333],\n",
       "       [0.08333333],\n",
       "       [0.10833333],\n",
       "       [0.025     ],\n",
       "       [0.05      ],\n",
       "       [0.15      ],\n",
       "       [0.13333333],\n",
       "       [0.3       ],\n",
       "       [0.875     ],\n",
       "       [0.60833333],\n",
       "       [0.58333333],\n",
       "       [0.45      ],\n",
       "       [0.73333333],\n",
       "       [0.8       ],\n",
       "       [0.85833333],\n",
       "       [0.8       ],\n",
       "       [0.98333333],\n",
       "       [0.6       ],\n",
       "       [0.50833333],\n",
       "       [0.675     ],\n",
       "       [0.775     ],\n",
       "       [1.        ],\n",
       "       [0.79166667],\n",
       "       [0.68333333],\n",
       "       [0.525     ],\n",
       "       [0.475     ],\n",
       "       [0.69166667],\n",
       "       [0.51666667],\n",
       "       [0.41666667],\n",
       "       [0.35      ],\n",
       "       [0.375     ],\n",
       "       [0.23333333],\n",
       "       [0.29166667],\n",
       "       [0.35833333],\n",
       "       [0.40833333],\n",
       "       [0.38333333],\n",
       "       [0.20833333],\n",
       "       [0.225     ],\n",
       "       [0.23333333],\n",
       "       [0.25      ],\n",
       "       [0.19166667]])"
      ]
     },
     "execution_count": 9,
     "metadata": {},
     "output_type": "execute_result"
    }
   ],
   "source": [
    "# Y Data\n",
    "y_info = info[:,-1:]\n",
    "scaling_y = min_max_scaling(y_info)\n",
    "\n",
    "scaling_y"
   ]
  },
  {
   "cell_type": "code",
   "execution_count": 10,
   "metadata": {},
   "outputs": [
    {
     "name": "stdout",
     "output_type": "stream",
     "text": [
      "Not concat\n",
      "x data frist array ::  [2.35556127e-03 1.49899353e-06 0.00000000e+00]\n",
      "x data last array  ::  [5.76898368e-01 3.01940126e-05 8.56567733e-05]\n",
      "y data frist array ::  [0.]\n",
      "y data last array  ::  [0.19166667]\n"
     ]
    }
   ],
   "source": [
    "# Concatenate\n",
    "# print('concat')\n",
    "# x = np.concatenate((scaling_x, scaling_y), axis=1)\n",
    "# print('x data frist array :: ',x[0])\n",
    "# print('x data last array  :: ',x[-1])\n",
    "\n",
    "# y = x[:,[-1]]\n",
    "# print('y data frist array :: ',y[0])\n",
    "# print('y data last array  :: ',y[-1])\n",
    "\n",
    "# print('=' * 80)\n",
    "\n",
    "# not Concatenate\n",
    "print('Not concat')\n",
    "\n",
    "x = scaling_x\n",
    "print('x data frist array :: ',x[0])\n",
    "print('x data last array  :: ',x[-1])\n",
    "\n",
    "y = scaling_y\n",
    "print('y data frist array :: ',y[0])\n",
    "print('y data last array  :: ',y[-1])"
   ]
  },
  {
   "cell_type": "code",
   "execution_count": 11,
   "metadata": {},
   "outputs": [],
   "source": [
    "# data list\n",
    "data_X = []\n",
    "data_Y = []"
   ]
  },
  {
   "cell_type": "code",
   "execution_count": 12,
   "metadata": {},
   "outputs": [
    {
     "name": "stdout",
     "output_type": "stream",
     "text": [
      "[[2.35556127e-03 1.49899353e-06 0.00000000e+00]\n",
      " [4.49698060e-03 1.49899353e-06 0.00000000e+00]\n",
      " [2.13285366e-02 1.49899353e-06 0.00000000e+00]\n",
      " [2.19281340e-02 1.49899353e-06 0.00000000e+00]\n",
      " [4.50982911e-02 3.42627093e-07 0.00000000e+00]] -> [0.]\n",
      "196 196\n"
     ]
    }
   ],
   "source": [
    "# seq_length\n",
    "\n",
    "for i in range(0, len(y) - seq_length):\n",
    "    _x = x[i: i + seq_length]\n",
    "    _y = y[i + seq_length]  # 다음 나타날 주가(정답)\n",
    "    if i is 0:\n",
    "        print(_x, \"->\", _y)  # 첫번째 행만 출력해 봄\n",
    "    data_X.append(_x)  # dataX 리스트에 추가\n",
    "    data_Y.append(_y)  # dataY 리스트에 추가\n",
    "    \n",
    "print(len(data_X),len(data_Y))"
   ]
  },
  {
   "cell_type": "code",
   "execution_count": 13,
   "metadata": {},
   "outputs": [],
   "source": [
    "# size\n",
    "train_size = int(len(data_Y) * 0.7)\n",
    "test_size = len(data_Y) - train_size\n",
    "\n",
    "# train\n",
    "train_X = np.array(data_X[0:train_size])\n",
    "train_Y = np.array(data_Y[0:train_size])\n",
    "\n",
    "# test\n",
    "test_X = np.array(data_X[train_size:len(data_X)])\n",
    "test_Y = np.array(data_Y[train_size:len(data_Y)])"
   ]
  },
  {
   "cell_type": "markdown",
   "metadata": {},
   "source": [
    "# MODELING\n",
    "### TensorFlow\n",
    "- TensorFlow placeholder"
   ]
  },
  {
   "cell_type": "code",
   "execution_count": 14,
   "metadata": {
    "scrolled": false
   },
   "outputs": [
    {
     "name": "stdout",
     "output_type": "stream",
     "text": [
      "X: Tensor(\"Placeholder:0\", shape=(?, 5, 3), dtype=float32)\n",
      "Y: Tensor(\"Placeholder_1:0\", shape=(?, 1), dtype=float32)\n",
      "targets: Tensor(\"Placeholder_2:0\", shape=(?, 1), dtype=float32)\n",
      "predictions: Tensor(\"Placeholder_3:0\", shape=(?, 1), dtype=float32)\n",
      "\n"
     ]
    }
   ],
   "source": [
    "X = tf.placeholder(tf.float32, [None, seq_length, input_data_cnt])\n",
    "Y = tf.placeholder(tf.float32, [None, 1])\n",
    "\n",
    "# 검증용 측정지표\n",
    "targets = tf.placeholder(tf.float32, [None, 1])\n",
    "predictions = tf.placeholder(tf.float32, [None, 1])\n",
    "\n",
    "print('X: {}\\nY: {}\\ntargets: {}\\npredictions: {}\\n'.format(X,Y,targets,predictions))"
   ]
  },
  {
   "cell_type": "markdown",
   "metadata": {},
   "source": [
    " - LSTM"
   ]
  },
  {
   "cell_type": "code",
   "execution_count": 15,
   "metadata": {},
   "outputs": [],
   "source": [
    "def lstm_cell():\n",
    "    # LSTM셀을 생성\n",
    "    # num_units: 각 Cell 출력 크기\n",
    "    # forget_bias:  to the biases of the forget gate\n",
    "    #              (default: 1)  in order to reduce the scale of forgetting in the beginning of the training.\n",
    "    # state_is_tuple: True ==> accepted and returned states are 2-tuples of the c_state and m_state.\n",
    "    # state_is_tuple: False ==> they are concatenated along the column axis.\n",
    "    cell = tf.contrib.rnn.BasicLSTMCell(num_units=rnn_cell_hidden_dim,\n",
    "                                        forget_bias=forget_bias, state_is_tuple=True, activation=tf.nn.sigmoid)\n",
    "    if keep_prob < 1.0:\n",
    "        cell = tf.contrib.rnn.DropoutWrapper(cell, output_keep_prob=keep_prob)\n",
    "    return cell"
   ]
  },
  {
   "cell_type": "code",
   "execution_count": 16,
   "metadata": {},
   "outputs": [],
   "source": [
    "stackedRNNs = [lstm_cell() for _ in range(num_stacked_layers)]\n",
    "multi_cells = tf.contrib.rnn.MultiRNNCell(stackedRNNs, state_is_tuple=True) \\\n",
    "if num_stacked_layers > 1 else lstm_cell()"
   ]
  },
  {
   "cell_type": "code",
   "execution_count": 17,
   "metadata": {},
   "outputs": [
    {
     "name": "stdout",
     "output_type": "stream",
     "text": [
      "hypothesis:  Tensor(\"rnn/transpose_1:0\", shape=(?, 5, 15), dtype=float32)\n"
     ]
    }
   ],
   "source": [
    "# hypothesis\n",
    "\n",
    "hypothesis, _states = tf.nn.dynamic_rnn(multi_cells, X, dtype=tf.float32)\n",
    "print(\"hypothesis: \", hypothesis)\n",
    "\n",
    "hypothesis = tf.contrib.layers.fully_connected(hypothesis[:, -1], output_data_cnt, activation_fn=tf.identity)"
   ]
  },
  {
   "cell_type": "code",
   "execution_count": 18,
   "metadata": {},
   "outputs": [],
   "source": [
    "# loss\n",
    "\n",
    "loss = tf.reduce_sum(tf.square(hypothesis - Y))"
   ]
  },
  {
   "cell_type": "code",
   "execution_count": 19,
   "metadata": {},
   "outputs": [],
   "source": [
    "# optimizer\n",
    "\n",
    "optimizer = tf.train.AdamOptimizer(learning_rate)\n",
    "\n",
    "train = optimizer.minimize(loss)"
   ]
  },
  {
   "cell_type": "markdown",
   "metadata": {},
   "source": [
    " - RMSE"
   ]
  },
  {
   "cell_type": "code",
   "execution_count": 20,
   "metadata": {},
   "outputs": [],
   "source": [
    "# rmse\n",
    "\n",
    "rmse = tf.sqrt(tf.reduce_mean(tf.squared_difference(targets, predictions)))"
   ]
  },
  {
   "cell_type": "code",
   "execution_count": 21,
   "metadata": {},
   "outputs": [],
   "source": [
    "# recording\n",
    "\n",
    "train_error_summary = []\n",
    "test_error_summary = []\n",
    "test_predict = ''"
   ]
  },
  {
   "cell_type": "code",
   "execution_count": 22,
   "metadata": {},
   "outputs": [],
   "source": [
    "# Session\n",
    "\n",
    "sess = tf.Session()\n",
    "sess.run(tf.global_variables_initializer())"
   ]
  },
  {
   "cell_type": "code",
   "execution_count": 23,
   "metadata": {},
   "outputs": [
    {
     "name": "stdout",
     "output_type": "stream",
     "text": [
      "학습을 시작합니다...\n",
      "elapsed_time: 0:00:02.920188\n",
      "elapsed_time per epoch: 0:00:00.002433\n"
     ]
    }
   ],
   "source": [
    "start_time = datetime.datetime.now()  # 시작시간을 기록한다\n",
    "print('학습을 시작합니다...')\n",
    "for epoch in range(epoch_num):\n",
    "    _, _loss = sess.run([train, loss], feed_dict={X: train_X, Y: train_Y})\n",
    "    if ((epoch + 1) % 100 == 0) or (epoch == epoch_num - 1):  # 100번째마다 또는 마지막 epoch인 경우\n",
    "        # 학습용데이터로 rmse오차를 구한다\n",
    "        train_predict = sess.run(hypothesis, feed_dict={X: train_X})\n",
    "        train_error = sess.run(rmse, feed_dict={targets: train_Y, predictions: train_predict})\n",
    "        train_error_summary.append(train_error)\n",
    "        # 현재 오류를 출력한다\n",
    "        #print(\"epoch: {}, train_error(A): {}, test_error(B): {}, B-A: {}\".format(epoch + 1, train_error, test_error,\n",
    "        #                                                                         test_error - train_error))\n",
    "        \n",
    "# 테스트용데이터로 rmse오차를 구한다\n",
    "test_predict = sess.run(hypothesis, feed_dict={X: test_X})\n",
    "test_error = sess.run(rmse, feed_dict={targets: test_Y, predictions: test_predict})\n",
    "test_error_summary.append(test_error)\n",
    "\n",
    "end_time = datetime.datetime.now()\n",
    "elapsed_time = end_time - start_time\n",
    "\n",
    "print('elapsed_time:', elapsed_time)\n",
    "print('elapsed_time per epoch:', elapsed_time / epoch_num)"
   ]
  },
  {
   "cell_type": "code",
   "execution_count": 24,
   "metadata": {},
   "outputs": [
    {
     "name": "stdout",
     "output_type": "stream",
     "text": [
      "input_data_cnt: 3\n",
      ",output_data_cnt: 1\n",
      ",seq_length: 5\n",
      ",rnn_cell_hidden_dim: 15\n",
      ",forget_bias: 1.0\n",
      ",num_stacked_layers: 1\n",
      ",keep_prob: 1.0\n",
      ",epoch_num: 1200\n",
      ",learning_rate: 0.001\n",
      ",train_error: 0.04478012\n",
      ",test_error: 0.39165342\n",
      ",min_test_error: 0.39165342\n"
     ]
    }
   ],
   "source": [
    "# Output Parameter\n",
    "\n",
    "print('input_data_cnt:', input_data_cnt, end='\\n')\n",
    "print(',output_data_cnt:', output_data_cnt, end='\\n')\n",
    "\n",
    "print(',seq_length:', seq_length, end='\\n')\n",
    "print(',rnn_cell_hidden_dim:', rnn_cell_hidden_dim, end='\\n')\n",
    "print(',forget_bias:', forget_bias, end='\\n')\n",
    "print(',num_stacked_layers:', num_stacked_layers, end='\\n')\n",
    "print(',keep_prob:', keep_prob, end='\\n')\n",
    "\n",
    "print(',epoch_num:', epoch_num, end='\\n')\n",
    "print(',learning_rate:', learning_rate, end='\\n')\n",
    "\n",
    "print(',train_error:', train_error_summary[-1], end='\\n')\n",
    "print(',test_error:', test_error_summary[-1], end='\\n')\n",
    "print(',min_test_error:', np.min(test_error_summary))"
   ]
  },
  {
   "cell_type": "code",
   "execution_count": 25,
   "metadata": {},
   "outputs": [
    {
     "data": {
      "image/png": "[encoded data removed]",
      "text/plain": [
       "<Figure size 432x288 with 1 Axes>"
      ]
     },
     "metadata": {
      "needs_background": "light"
     },
     "output_type": "display_data"
    },
    {
     "data": {
      "image/png": "[encoded data removed]",
      "text/plain": [
       "<Figure size 432x288 with 1 Axes>"
      ]
     },
     "metadata": {
      "needs_background": "light"
     },
     "output_type": "display_data"
    }
   ],
   "source": [
    "plt.figure(1)\n",
    "plt.plot(train_error_summary, 'gold')\n",
    "plt.plot(test_error_summary, 'b')\n",
    "plt.xlabel('Epoch(x100)')\n",
    "plt.ylabel('Root Mean Square Error')\n",
    "\n",
    "plt.figure(2)\n",
    "plt.plot(test_Y, 'r')\n",
    "plt.plot(test_predict, 'b')\n",
    "plt.xlabel('Time Period')\n",
    "plt.ylabel('def_count')\n",
    "plt.show()"
   ]
  },
  {
   "cell_type": "code",
   "execution_count": null,
   "metadata": {},
   "outputs": [],
   "source": []
  }
 ],
 "metadata": {
  "kernelspec": {
   "display_name": "Python 3",
   "language": "python",
   "name": "python3"
  },
  "language_info": {
   "codemirror_mode": {
    "name": "ipython",
    "version": 3
   },
   "file_extension": ".py",
   "mimetype": "text/x-python",
   "name": "python",
   "nbconvert_exporter": "python",
   "pygments_lexer": "ipython3",
   "version": "3.6.10"
  }
 },
 "nbformat": 4,
 "nbformat_minor": 4
}
