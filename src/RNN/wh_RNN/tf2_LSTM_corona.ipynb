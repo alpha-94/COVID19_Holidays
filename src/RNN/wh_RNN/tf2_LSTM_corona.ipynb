{
 "cells": [
  {
   "cell_type": "markdown",
   "metadata": {
    "slideshow": {
     "slide_type": "slide"
    }
   },
   "source": [
    "# INFOMATION\n",
    "\n",
    "### python info\n",
    " - Version : 3.6.10\n",
    " - Anaconda ver 4.8.2\n",
    " \n",
    "### package info\n",
    " - tensorflow ver 2.1.0\n",
    " - numpy ver 1.19.1\n",
    " - pandas ver 1.1.1"
   ]
  },
  {
   "cell_type": "code",
   "execution_count": 1,
   "metadata": {
    "slideshow": {
     "slide_type": "subslide"
    }
   },
   "outputs": [],
   "source": [
    "# ##########################################\n",
    "# # 환경 변경 또는 다운로드를 원할때 사용하세요\n",
    "# # 전체를 드래그 후 ctrl+/ 누르면 활성화 됩니다.\n",
    "# !pip install tensorflow==2.1\n",
    "# !pip install numpy==1.19.1\n",
    "# !pip install pandas==1.1.1\n",
    "# !pip install varname\n",
    "# !pip install qgrid\n",
    "# !pip install pymysql\n",
    "# ##########################################\n",
    "\n",
    "# tensorflow\n",
    "import tensorflow as tf\n",
    "from tensorflow.keras.callbacks import EarlyStopping\n",
    "\n",
    "import os\n",
    "\n",
    "# data array\n",
    "\n",
    "import pandas as pd\n",
    "import numpy as np\n",
    "\n",
    "# print 내 지수표현식 방지\n",
    "np.set_printoptions(formatter={'float_kind': lambda x: \"{0:0.2f}\".format(x)})\n",
    "\n",
    "# nomalization\n",
    "from sklearn.preprocessing import MinMaxScaler as scaler\n",
    "from sklearn.metrics import mean_squared_error\n",
    "\n",
    "# return variable name\n",
    "\n",
    "from varname import nameof\n",
    "\n",
    "# dataframe visualization\n",
    "\n",
    "import qgrid"
   ]
  },
  {
   "cell_type": "markdown",
   "metadata": {
    "slideshow": {
     "slide_type": "slide"
    }
   },
   "source": [
    "- matplotlib 오류 방지"
   ]
  },
  {
   "cell_type": "code",
   "execution_count": 2,
   "metadata": {
    "slideshow": {
     "slide_type": "subslide"
    }
   },
   "outputs": [],
   "source": [
    "import matplotlib\n",
    "if \"DISPLAY\" not in os.environ:\n",
    "    # remove Travis CI Error\n",
    "    matplotlib.use('TkAgg')\n",
    "\n",
    "import matplotlib.pyplot as plt\n",
    "%matplotlib inline"
   ]
  },
  {
   "cell_type": "markdown",
   "metadata": {
    "slideshow": {
     "slide_type": "slide"
    }
   },
   "source": [
    "# SETTING\n",
    " ### function"
   ]
  },
  {
   "cell_type": "code",
   "execution_count": 3,
   "metadata": {
    "slideshow": {
     "slide_type": "subslide"
    }
   },
   "outputs": [],
   "source": [
    "def build_dataset(time_series, seq_length):\n",
    "    dataX = []\n",
    "    dataY = []\n",
    "    for i in range(0, len(time_series) - seq_length):\n",
    "        x = time_series[i:i + seq_length,:-1]\n",
    "        y = time_series[i + seq_length, [-1]]  # Next close price\n",
    "\n",
    "        dataX.append(x)\n",
    "        dataY.append(y)\n",
    "        if i <=10:\n",
    "            print('{}번째'.format(i))\n",
    "            print(x, \"->\", y)\n",
    "            print('='*10)\n",
    "            \n",
    "    return np.array(dataX), np.array(dataY)"
   ]
  },
  {
   "cell_type": "markdown",
   "metadata": {
    "slideshow": {
     "slide_type": "slide"
    }
   },
   "source": [
    "### parameter"
   ]
  },
  {
   "cell_type": "code",
   "execution_count": 4,
   "metadata": {
    "slideshow": {
     "slide_type": "subslide"
    }
   },
   "outputs": [],
   "source": [
    "# train Parameters\n",
    "seq_length = 5\n",
    "data_dim = 3\n",
    "output_dim = 1\n",
    "learning_rate = 0.001\n",
    "iterations = 1000"
   ]
  },
  {
   "cell_type": "markdown",
   "metadata": {
    "slideshow": {
     "slide_type": "slide"
    }
   },
   "source": [
    "### Data\n",
    " - load data"
   ]
  },
  {
   "cell_type": "code",
   "execution_count": 5,
   "metadata": {
    "scrolled": true,
    "slideshow": {
     "slide_type": "subslide"
    }
   },
   "outputs": [
    {
     "name": "stdout",
     "output_type": "stream",
     "text": [
      "DB 접속 실패\n"
     ]
    }
   ],
   "source": [
    "try:\n",
    "    \n",
    "    # import pymysql\n",
    "\n",
    "    col_name = ['cfm_date','symptom','asymptom','research','cfm_cnt','exam_cnt','policy']\n",
    "    col_name_str = ','.join(col_name)\n",
    "    sql_gginfo_select = \"select {} from GGInternal\".format(col_name_str)\n",
    "\n",
    "    conn = pymysql.connect(\n",
    "        user='root', \n",
    "        passwd='1234', \n",
    "        host='127.0.0.1', \n",
    "        db='covid19', \n",
    "        charset='utf8'\n",
    "    )\n",
    "\n",
    "    with conn.cursor() as cur:\n",
    "        print('connect complete')\n",
    "        cur.execute(sql_gginfo_select)\n",
    "        data = cur.fetchall()\n",
    "\n",
    "\n",
    "        data = pd.DataFrame(data,columns=col_name)\n",
    "\n",
    "    spd_symptom = 3.5\n",
    "    spd_asymptom = 0.8\n",
    "\n",
    "    data['spread'] = data['symptom'] * (spd_symptom * 0.01) + data['asymptom'] * (spd_asymptom * 0.01)\n",
    "\n",
    "    xy = data[['cfm_date','exam_cnt','spread','policy','cfm_cnt']]\n",
    "\n",
    "    qgrid.show_grid(xy,show_toolbar=True)\n",
    "    \n",
    "    del xy['cfm_date']\n",
    "\n",
    "except:\n",
    "    print('DB 접속 실패')\n",
    "    xy = pd.read_csv('test_0918_both.csv')\n",
    "    del xy['date']\n"
   ]
  },
  {
   "cell_type": "markdown",
   "metadata": {
    "slideshow": {
     "slide_type": "slide"
    }
   },
   "source": [
    "- 시계열 컬럼 삭제 및 부동소수점으로 변환"
   ]
  },
  {
   "cell_type": "code",
   "execution_count": 6,
   "metadata": {
    "slideshow": {
     "slide_type": "subslide"
    }
   },
   "outputs": [],
   "source": [
    "xy = xy.values[1:].astype(np.float)\n",
    "# xy = xy[::-1]  # reverse order (chronically ordered) <- already reverse"
   ]
  },
  {
   "cell_type": "markdown",
   "metadata": {
    "slideshow": {
     "slide_type": "slide"
    }
   },
   "source": [
    "- 데이터 시각화"
   ]
  },
  {
   "cell_type": "code",
   "execution_count": 7,
   "metadata": {
    "slideshow": {
     "slide_type": "subslide"
    }
   },
   "outputs": [
    {
     "data": {
      "image/png": "[encoded data removed]",
      "text/plain": [
       "<Figure size 432x288 with 1 Axes>"
      ]
     },
     "metadata": {
      "needs_background": "light"
     },
     "output_type": "display_data"
    }
   ],
   "source": [
    "scal = scaler()\n",
    "scal_tf = scal.fit_transform(xy)\n",
    "\n",
    "plt.plot(scal_tf[:,[0]],label = 'examcnt')\n",
    "plt.plot(scal_tf[:,[1]],label = 'spread')\n",
    "plt.plot(scal_tf[:,[2]],label = 'policy')\n",
    "plt.plot(scal_tf[:,[3]],label = 'infection')\n",
    "plt.legend()\n",
    "plt.show()"
   ]
  },
  {
   "cell_type": "markdown",
   "metadata": {
    "slideshow": {
     "slide_type": "slide"
    }
   },
   "source": [
    "- 학습용 / 테스트용 분리"
   ]
  },
  {
   "cell_type": "code",
   "execution_count": 8,
   "metadata": {
    "slideshow": {
     "slide_type": "subslide"
    }
   },
   "outputs": [],
   "source": [
    "train_size = int(len(xy) * 0.85)\n",
    "train_set = xy[0:train_size]\n",
    "test_set = xy[train_size - seq_length:]"
   ]
  },
  {
   "cell_type": "markdown",
   "metadata": {
    "slideshow": {
     "slide_type": "slide"
    }
   },
   "source": [
    " - 스케일링 (Min-Max Scaling)\n",
    "     > 1. x, y 스케일러 인스턴스 생성\n",
    "     > 2. x, y 전체 피팅 생성\n",
    "     > 3. 학습용 / 테스트용 스케일링 변환\n",
    "     > * 나누는 목적\n",
    "     >> 나중에 inverse 할때 예상값과 같은 배열 크기여야 가능하다."
   ]
  },
  {
   "cell_type": "code",
   "execution_count": 9,
   "metadata": {
    "slideshow": {
     "slide_type": "subslide"
    }
   },
   "outputs": [
    {
     "name": "stdout",
     "output_type": "stream",
     "text": [
      "[[0.00 0.01 0.00]\n",
      " [0.00 0.01 0.00]\n",
      " [0.02 0.01 0.00]\n",
      " [0.02 0.01 0.00]\n",
      " [0.04 0.00 0.00]\n",
      " [0.08 0.01 0.00]\n",
      " [0.13 0.02 0.00]\n",
      " [0.21 0.03 0.00]\n",
      " [0.19 0.11 0.00]\n",
      " [0.27 0.09 0.00]]\n",
      "----------\n",
      "[[55.00 0.04 0.00]\n",
      " [105.00 0.04 0.00]\n",
      " [498.00 0.04 0.00]\n",
      " [512.00 0.04 0.00]\n",
      " [1053.00 0.01 0.00]\n",
      " [1976.00 0.04 0.00]\n",
      " [3098.00 0.07 0.00]\n",
      " [4957.00 0.12 0.00]\n",
      " [4424.00 0.35 0.00]\n",
      " [6346.00 0.29 0.00]]\n",
      "----------\n",
      "[[55.00 0.04 0.00]\n",
      " [105.00 0.04 0.00]\n",
      " [498.00 0.04 0.00]\n",
      " [512.00 0.04 0.00]\n",
      " [1053.00 0.01 0.00]\n",
      " [1976.00 0.04 0.00]\n",
      " [3098.00 0.07 0.00]\n",
      " [4957.00 0.12 0.00]\n",
      " [4424.00 0.35 0.00]\n",
      " [6346.00 0.29 0.00]]\n"
     ]
    }
   ],
   "source": [
    "min_max_x = scaler()\n",
    "min_max_y = scaler()\n",
    "\n",
    "min_max_x_fit = min_max_x.fit(xy[:,:-1])\n",
    "min_max_y_fit = min_max_y.fit(xy[:,[-1]])\n",
    "\n",
    "train_set_sc_x = min_max_x.transform(train_set[:, :-1])\n",
    "train_set_sc_y = min_max_y.transform(train_set[:, [-1]])\n",
    "test_set_sc_x = min_max_x.transform(test_set[:, :-1])\n",
    "test_set_sc_y = min_max_y.transform(test_set[:, [-1]])\n",
    "\n",
    "print(train_set_sc_x[:10])\n",
    "print('-'*10)\n",
    "print(train_set[:10,:-1])\n",
    "print('-'*10)\n",
    "print(min_max_x.inverse_transform(train_set_sc_x)[:10])"
   ]
  },
  {
   "cell_type": "markdown",
   "metadata": {
    "slideshow": {
     "slide_type": "slide"
    }
   },
   "source": [
    " - 원상복귀 시켜준다."
   ]
  },
  {
   "cell_type": "code",
   "execution_count": 10,
   "metadata": {
    "slideshow": {
     "slide_type": "subslide"
    }
   },
   "outputs": [
    {
     "name": "stdout",
     "output_type": "stream",
     "text": [
      "[[0.00 0.01 0.00 0.01]\n",
      " [0.00 0.01 0.00 0.01]\n",
      " [0.02 0.01 0.00 0.02]]\n",
      "----------\n",
      "[[0.43 0.86 0.40 0.89]\n",
      " [0.43 0.59 0.40 0.63]\n",
      " [0.26 0.50 0.40 0.60]]\n"
     ]
    }
   ],
   "source": [
    "train_set = np.concatenate((train_set_sc_x,train_set_sc_y), axis=1)\n",
    "test_set = np.concatenate((test_set_sc_x,test_set_sc_y), axis=1)\n",
    "print(train_set[:3])\n",
    "print('-'*10)\n",
    "print(test_set[:3])"
   ]
  },
  {
   "cell_type": "markdown",
   "metadata": {
    "slideshow": {
     "slide_type": "slide"
    }
   },
   "source": [
    " - 학습 / 테스트 데이터 구분"
   ]
  },
  {
   "cell_type": "code",
   "execution_count": 11,
   "metadata": {
    "slideshow": {
     "slide_type": "subslide"
    }
   },
   "outputs": [
    {
     "name": "stdout",
     "output_type": "stream",
     "text": [
      "Data Name is train_set\n",
      "0번째\n",
      "[[0.00 0.01 0.00]\n",
      " [0.00 0.01 0.00]\n",
      " [0.02 0.01 0.00]\n",
      " [0.02 0.01 0.00]\n",
      " [0.04 0.00 0.00]] -> [0.00]\n",
      "==========\n",
      "1번째\n",
      "[[0.00 0.01 0.00]\n",
      " [0.02 0.01 0.00]\n",
      " [0.02 0.01 0.00]\n",
      " [0.04 0.00 0.00]\n",
      " [0.08 0.01 0.00]] -> [0.01]\n",
      "==========\n",
      "2번째\n",
      "[[0.02 0.01 0.00]\n",
      " [0.02 0.01 0.00]\n",
      " [0.04 0.00 0.00]\n",
      " [0.08 0.01 0.00]\n",
      " [0.13 0.02 0.00]] -> [0.06]\n",
      "==========\n",
      "3번째\n",
      "[[0.02 0.01 0.00]\n",
      " [0.04 0.00 0.00]\n",
      " [0.08 0.01 0.00]\n",
      " [0.13 0.02 0.00]\n",
      " [0.21 0.03 0.00]] -> [0.07]\n",
      "==========\n",
      "4번째\n",
      "[[0.04 0.00 0.00]\n",
      " [0.08 0.01 0.00]\n",
      " [0.13 0.02 0.00]\n",
      " [0.21 0.03 0.00]\n",
      " [0.19 0.11 0.00]] -> [0.07]\n",
      "==========\n",
      "5번째\n",
      "[[0.08 0.01 0.00]\n",
      " [0.13 0.02 0.00]\n",
      " [0.21 0.03 0.00]\n",
      " [0.19 0.11 0.00]\n",
      " [0.27 0.09 0.00]] -> [0.04]\n",
      "==========\n",
      "6번째\n",
      "[[0.13 0.02 0.00]\n",
      " [0.21 0.03 0.00]\n",
      " [0.19 0.11 0.00]\n",
      " [0.27 0.09 0.00]\n",
      " [0.32 0.06 0.00]] -> [0.07]\n",
      "==========\n",
      "7번째\n",
      "[[0.21 0.03 0.00]\n",
      " [0.19 0.11 0.00]\n",
      " [0.27 0.09 0.00]\n",
      " [0.32 0.06 0.00]\n",
      " [0.55 0.09 0.00]] -> [0.10]\n",
      "==========\n",
      "8번째\n",
      "[[0.19 0.11 0.00]\n",
      " [0.27 0.09 0.00]\n",
      " [0.32 0.06 0.00]\n",
      " [0.55 0.09 0.00]\n",
      " [0.54 0.11 0.00]] -> [0.06]\n",
      "==========\n",
      "9번째\n",
      "[[0.27 0.09 0.00]\n",
      " [0.32 0.06 0.00]\n",
      " [0.55 0.09 0.00]\n",
      " [0.54 0.11 0.00]\n",
      " [0.60 0.07 0.00]] -> [0.08]\n",
      "==========\n",
      "10번째\n",
      "[[0.32 0.06 0.00]\n",
      " [0.55 0.09 0.00]\n",
      " [0.54 0.11 0.00]\n",
      " [0.60 0.07 0.00]\n",
      " [0.52 0.10 0.00]] -> [0.01]\n",
      "==========\n",
      "\n",
      "\n",
      "\n",
      "Data Name is test_set\n",
      "0번째\n",
      "[[0.43 0.86 0.40]\n",
      " [0.43 0.59 0.40]\n",
      " [0.26 0.50 0.40]\n",
      " [0.28 0.42 0.40]\n",
      " [0.36 0.65 0.80]] -> [0.80]\n",
      "==========\n",
      "1번째\n",
      "[[0.43 0.59 0.40]\n",
      " [0.26 0.50 0.40]\n",
      " [0.28 0.42 0.40]\n",
      " [0.36 0.65 0.80]\n",
      " [0.76 0.79 0.80]] -> [0.85]\n",
      "==========\n",
      "2번째\n",
      "[[0.26 0.50 0.40]\n",
      " [0.28 0.42 0.40]\n",
      " [0.36 0.65 0.80]\n",
      " [0.76 0.79 0.80]\n",
      " [0.80 0.81 0.80]] -> [0.82]\n",
      "==========\n",
      "3번째\n",
      "[[0.28 0.42 0.40]\n",
      " [0.36 0.65 0.80]\n",
      " [0.76 0.79 0.80]\n",
      " [0.80 0.81 0.80]\n",
      " [0.84 0.77 0.80]] -> [1.00]\n",
      "==========\n",
      "4번째\n",
      "[[0.36 0.65 0.80]\n",
      " [0.76 0.79 0.80]\n",
      " [0.80 0.81 0.80]\n",
      " [0.84 0.77 0.80]\n",
      " [0.91 1.00 0.80]] -> [0.59]\n",
      "==========\n",
      "5번째\n",
      "[[0.76 0.79 0.80]\n",
      " [0.80 0.81 0.80]\n",
      " [0.84 0.77 0.80]\n",
      " [0.91 1.00 0.80]\n",
      " [0.64 0.60 0.80]] -> [0.53]\n",
      "==========\n",
      "6번째\n",
      "[[0.80 0.81 0.80]\n",
      " [0.84 0.77 0.80]\n",
      " [0.91 1.00 0.80]\n",
      " [0.64 0.60 0.80]\n",
      " [0.55 0.52 0.80]] -> [0.70]\n",
      "==========\n",
      "7번째\n",
      "[[0.84 0.77 0.80]\n",
      " [0.91 1.00 0.80]\n",
      " [0.64 0.60 0.80]\n",
      " [0.55 0.52 0.80]\n",
      " [0.90 0.73 0.80]] -> [0.78]\n",
      "==========\n",
      "8번째\n",
      "[[0.91 1.00 0.80]\n",
      " [0.64 0.60 0.80]\n",
      " [0.55 0.52 0.80]\n",
      " [0.90 0.73 0.80]\n",
      " [1.00 0.88 0.80]] -> [0.98]\n",
      "==========\n",
      "9번째\n",
      "[[0.64 0.60 0.80]\n",
      " [0.55 0.52 0.80]\n",
      " [0.90 0.73 0.80]\n",
      " [1.00 0.88 0.80]\n",
      " [0.84 0.92 0.80]] -> [0.80]\n",
      "==========\n",
      "10번째\n",
      "[[0.55 0.52 0.80]\n",
      " [0.90 0.73 0.80]\n",
      " [1.00 0.88 0.80]\n",
      " [0.84 0.92 0.80]\n",
      " [0.76 0.61 0.80]] -> [0.70]\n",
      "==========\n",
      "(168, 5, 3) (31, 5, 3)\n"
     ]
    }
   ],
   "source": [
    "print('Data Name is {}'.format(nameof(train_set)))\n",
    "trainX, trainY = build_dataset(train_set, seq_length)\n",
    "\n",
    "print('\\n\\n')\n",
    "\n",
    "print('Data Name is {}'.format(nameof(test_set)))\n",
    "testX, testY = build_dataset(test_set, seq_length)\n",
    "\n",
    "print(trainX.shape,testX.shape)"
   ]
  },
  {
   "cell_type": "markdown",
   "metadata": {
    "slideshow": {
     "slide_type": "slide"
    }
   },
   "source": [
    " ### LSTM Modeling\n",
    "  - 셀 지정"
   ]
  },
  {
   "cell_type": "code",
   "execution_count": 12,
   "metadata": {
    "slideshow": {
     "slide_type": "subslide"
    }
   },
   "outputs": [
    {
     "name": "stdout",
     "output_type": "stream",
     "text": [
      "Model: \"sequential\"\n",
      "_________________________________________________________________\n",
      "Layer (type)                 Output Shape              Param #   \n",
      "=================================================================\n",
      "lstm (LSTM)                  (None, 5, 4)              128       \n",
      "_________________________________________________________________\n",
      "lstm_1 (LSTM)                (None, 10)                600       \n",
      "_________________________________________________________________\n",
      "dense (Dense)                (None, 1)                 11        \n",
      "=================================================================\n",
      "Total params: 739\n",
      "Trainable params: 739\n",
      "Non-trainable params: 0\n",
      "_________________________________________________________________\n"
     ]
    }
   ],
   "source": [
    "# tf.random.set_seed(777)\n",
    "tf.model = tf.keras.Sequential()\n",
    "tf.model.add(tf.keras.layers.LSTM(units=4,input_shape=(seq_length, data_dim), return_sequences=True))\n",
    "tf.model.add(tf.keras.layers.LSTM(units=10, return_sequences=False))\n",
    "tf.model.add(tf.keras.layers.Dense(units=output_dim, activation='linear'))\n",
    "tf.model.summary()"
   ]
  },
  {
   "cell_type": "markdown",
   "metadata": {
    "slideshow": {
     "slide_type": "slide"
    }
   },
   "source": [
    " - Compile 지정"
   ]
  },
  {
   "cell_type": "code",
   "execution_count": 13,
   "metadata": {
    "slideshow": {
     "slide_type": "subslide"
    }
   },
   "outputs": [
    {
     "name": "stdout",
     "output_type": "stream",
     "text": [
      "Train on 168 samples, validate on 31 samples\n",
      "Epoch 1/1000\n",
      "168/168 [==============================] - 3s 18ms/sample - loss: 0.0160 - accuracy: 0.0357 - val_loss: 0.2135 - val_accuracy: 0.0000e+00\n",
      "Epoch 2/1000\n",
      "168/168 [==============================] - 0s 1ms/sample - loss: 0.0136 - accuracy: 0.0357 - val_loss: 0.2187 - val_accuracy: 0.0000e+00\n",
      "Epoch 3/1000\n",
      "168/168 [==============================] - 0s 1ms/sample - loss: 0.0134 - accuracy: 0.0357 - val_loss: 0.2037 - val_accuracy: 0.0000e+00\n",
      "Epoch 4/1000\n",
      "168/168 [==============================] - 0s 1ms/sample - loss: 0.0128 - accuracy: 0.0357 - val_loss: 0.2074 - val_accuracy: 0.0000e+00\n",
      "Epoch 5/1000\n",
      "168/168 [==============================] - 0s 1ms/sample - loss: 0.0126 - accuracy: 0.0357 - val_loss: 0.1914 - val_accuracy: 0.0000e+00\n",
      "Epoch 6/1000\n",
      "168/168 [==============================] - 0s 1ms/sample - loss: 0.0126 - accuracy: 0.0357 - val_loss: 0.1993 - val_accuracy: 0.0000e+00\n",
      "Epoch 7/1000\n",
      "168/168 [==============================] - 0s 1ms/sample - loss: 0.0123 - accuracy: 0.0357 - val_loss: 0.1841 - val_accuracy: 0.0000e+00\n",
      "Epoch 8/1000\n",
      "168/168 [==============================] - 0s 1ms/sample - loss: 0.0120 - accuracy: 0.0357 - val_loss: 0.1710 - val_accuracy: 0.0000e+00\n",
      "Epoch 9/1000\n",
      "168/168 [==============================] - 0s 1ms/sample - loss: 0.0118 - accuracy: 0.0357 - val_loss: 0.1647 - val_accuracy: 0.0000e+00\n",
      "Epoch 10/1000\n",
      "168/168 [==============================] - 0s 1ms/sample - loss: 0.0116 - accuracy: 0.0357 - val_loss: 0.1503 - val_accuracy: 0.0000e+00\n",
      "Epoch 11/1000\n",
      "168/168 [==============================] - 0s 1ms/sample - loss: 0.0111 - accuracy: 0.0357 - val_loss: 0.1571 - val_accuracy: 0.0000e+00\n",
      "Epoch 12/1000\n",
      "168/168 [==============================] - 0s 1ms/sample - loss: 0.0112 - accuracy: 0.0357 - val_loss: 0.1409 - val_accuracy: 0.0000e+00\n",
      "Epoch 13/1000\n",
      "168/168 [==============================] - 0s 1ms/sample - loss: 0.0103 - accuracy: 0.0357 - val_loss: 0.1083 - val_accuracy: 0.0000e+00\n",
      "Epoch 14/1000\n",
      "168/168 [==============================] - 0s 1ms/sample - loss: 0.0100 - accuracy: 0.0357 - val_loss: 0.0952 - val_accuracy: 0.0000e+00\n",
      "Epoch 15/1000\n",
      "168/168 [==============================] - 0s 1ms/sample - loss: 0.0093 - accuracy: 0.0357 - val_loss: 0.0622 - val_accuracy: 0.0000e+00\n",
      "Epoch 16/1000\n",
      "168/168 [==============================] - 0s 1ms/sample - loss: 0.0090 - accuracy: 0.0357 - val_loss: 0.0493 - val_accuracy: 0.0000e+00\n",
      "Epoch 17/1000\n",
      "168/168 [==============================] - 0s 1ms/sample - loss: 0.0086 - accuracy: 0.0357 - val_loss: 0.0374 - val_accuracy: 0.0323\n",
      "Epoch 18/1000\n",
      "168/168 [==============================] - 0s 1ms/sample - loss: 0.0078 - accuracy: 0.0357 - val_loss: 0.0256 - val_accuracy: 0.0323\n",
      "Epoch 19/1000\n",
      "168/168 [==============================] - 0s 1ms/sample - loss: 0.0073 - accuracy: 0.0357 - val_loss: 0.0252 - val_accuracy: 0.0323\n",
      "Epoch 20/1000\n",
      "168/168 [==============================] - 0s 1ms/sample - loss: 0.0069 - accuracy: 0.0357 - val_loss: 0.0341 - val_accuracy: 0.0323\n",
      "Epoch 21/1000\n",
      "168/168 [==============================] - 0s 1ms/sample - loss: 0.0066 - accuracy: 0.0357 - val_loss: 0.0358 - val_accuracy: 0.0323\n",
      "Epoch 22/1000\n",
      "168/168 [==============================] - 0s 1ms/sample - loss: 0.0065 - accuracy: 0.0357 - val_loss: 0.0424 - val_accuracy: 0.0323\n",
      "Epoch 23/1000\n",
      "168/168 [==============================] - 0s 1ms/sample - loss: 0.0065 - accuracy: 0.0357 - val_loss: 0.0573 - val_accuracy: 0.0323\n",
      "Epoch 24/1000\n",
      "168/168 [==============================] - 0s 1ms/sample - loss: 0.0064 - accuracy: 0.0357 - val_loss: 0.0628 - val_accuracy: 0.0323\n",
      "Epoch 25/1000\n",
      "168/168 [==============================] - 0s 1ms/sample - loss: 0.0065 - accuracy: 0.0357 - val_loss: 0.0496 - val_accuracy: 0.0323\n",
      "Epoch 26/1000\n",
      "168/168 [==============================] - 0s 1ms/sample - loss: 0.0067 - accuracy: 0.0357 - val_loss: 0.0562 - val_accuracy: 0.0323\n",
      "Epoch 27/1000\n",
      "168/168 [==============================] - 0s 1ms/sample - loss: 0.0064 - accuracy: 0.0357 - val_loss: 0.0596 - val_accuracy: 0.0323\n",
      "Epoch 28/1000\n",
      "168/168 [==============================] - 0s 1ms/sample - loss: 0.0063 - accuracy: 0.0357 - val_loss: 0.0631 - val_accuracy: 0.0323\n",
      "Epoch 29/1000\n",
      "168/168 [==============================] - 0s 1ms/sample - loss: 0.0063 - accuracy: 0.0357 - val_loss: 0.0599 - val_accuracy: 0.0323\n",
      "Epoch 30/1000\n",
      "168/168 [==============================] - 0s 1ms/sample - loss: 0.0067 - accuracy: 0.0357 - val_loss: 0.0461 - val_accuracy: 0.0323\n",
      "Epoch 31/1000\n",
      "168/168 [==============================] - 0s 1ms/sample - loss: 0.0063 - accuracy: 0.0357 - val_loss: 0.0493 - val_accuracy: 0.0323\n",
      "Epoch 32/1000\n",
      "168/168 [==============================] - 0s 1ms/sample - loss: 0.0063 - accuracy: 0.0357 - val_loss: 0.0503 - val_accuracy: 0.0323\n",
      "Epoch 33/1000\n",
      "168/168 [==============================] - 0s 1ms/sample - loss: 0.0061 - accuracy: 0.0357 - val_loss: 0.0802 - val_accuracy: 0.0323\n",
      "Epoch 34/1000\n",
      "168/168 [==============================] - 0s 1ms/sample - loss: 0.0061 - accuracy: 0.0357 - val_loss: 0.0664 - val_accuracy: 0.0323\n",
      "Epoch 35/1000\n",
      "168/168 [==============================] - 0s 1ms/sample - loss: 0.0062 - accuracy: 0.0357 - val_loss: 0.0598 - val_accuracy: 0.0323\n",
      "Epoch 36/1000\n",
      "168/168 [==============================] - 0s 1ms/sample - loss: 0.0060 - accuracy: 0.0357 - val_loss: 0.0605 - val_accuracy: 0.0323\n",
      "Epoch 37/1000\n",
      "168/168 [==============================] - 0s 1ms/sample - loss: 0.0059 - accuracy: 0.0357 - val_loss: 0.0551 - val_accuracy: 0.0323\n",
      "Epoch 38/1000\n",
      "168/168 [==============================] - 0s 1ms/sample - loss: 0.0062 - accuracy: 0.0357 - val_loss: 0.0614 - val_accuracy: 0.0323\n",
      "Epoch 39/1000\n",
      "168/168 [==============================] - 0s 1ms/sample - loss: 0.0060 - accuracy: 0.0357 - val_loss: 0.0556 - val_accuracy: 0.0323\n",
      "Epoch 40/1000\n",
      "168/168 [==============================] - 0s 1ms/sample - loss: 0.0058 - accuracy: 0.0357 - val_loss: 0.0652 - val_accuracy: 0.0323\n",
      "Epoch 41/1000\n",
      "168/168 [==============================] - 0s 1ms/sample - loss: 0.0060 - accuracy: 0.0357 - val_loss: 0.0442 - val_accuracy: 0.0323\n",
      "Epoch 42/1000\n",
      "168/168 [==============================] - 0s 1ms/sample - loss: 0.0061 - accuracy: 0.0357 - val_loss: 0.0493 - val_accuracy: 0.0323\n",
      "Epoch 43/1000\n",
      "168/168 [==============================] - 0s 1ms/sample - loss: 0.0058 - accuracy: 0.0357 - val_loss: 0.0557 - val_accuracy: 0.0323\n",
      "Epoch 44/1000\n",
      "168/168 [==============================] - 0s 1ms/sample - loss: 0.0057 - accuracy: 0.0357 - val_loss: 0.0542 - val_accuracy: 0.0323\n",
      "Epoch 45/1000\n",
      "168/168 [==============================] - 0s 982us/sample - loss: 0.0057 - accuracy: 0.0357 - val_loss: 0.0564 - val_accuracy: 0.0323\n",
      "Epoch 46/1000\n",
      "168/168 [==============================] - 0s 1ms/sample - loss: 0.0060 - accuracy: 0.0357 - val_loss: 0.0651 - val_accuracy: 0.0323\n",
      "Epoch 47/1000\n",
      "168/168 [==============================] - 0s 1ms/sample - loss: 0.0056 - accuracy: 0.0357 - val_loss: 0.0512 - val_accuracy: 0.0323\n",
      "Epoch 48/1000\n",
      "168/168 [==============================] - 0s 1ms/sample - loss: 0.0057 - accuracy: 0.0357 - val_loss: 0.0620 - val_accuracy: 0.0323\n",
      "Epoch 49/1000\n",
      "168/168 [==============================] - 0s 1ms/sample - loss: 0.0056 - accuracy: 0.0357 - val_loss: 0.0633 - val_accuracy: 0.0323\n",
      "Epoch 50/1000\n",
      "168/168 [==============================] - 0s 1ms/sample - loss: 0.0058 - accuracy: 0.0357 - val_loss: 0.0515 - val_accuracy: 0.0323\n",
      "Epoch 51/1000\n",
      "168/168 [==============================] - 0s 1ms/sample - loss: 0.0056 - accuracy: 0.0357 - val_loss: 0.0477 - val_accuracy: 0.0323\n",
      "Epoch 52/1000\n",
      "168/168 [==============================] - 0s 1ms/sample - loss: 0.0059 - accuracy: 0.0357 - val_loss: 0.0355 - val_accuracy: 0.0323\n",
      "Epoch 53/1000\n",
      "168/168 [==============================] - 0s 1ms/sample - loss: 0.0056 - accuracy: 0.0357 - val_loss: 0.0597 - val_accuracy: 0.0323\n",
      "Epoch 54/1000\n",
      "168/168 [==============================] - 0s 1ms/sample - loss: 0.0057 - accuracy: 0.0357 - val_loss: 0.0417 - val_accuracy: 0.0323\n",
      "Epoch 55/1000\n",
      "168/168 [==============================] - 0s 1ms/sample - loss: 0.0056 - accuracy: 0.0357 - val_loss: 0.0480 - val_accuracy: 0.0323\n",
      "Epoch 56/1000\n"
     ]
    },
    {
     "name": "stdout",
     "output_type": "stream",
     "text": [
      "168/168 [==============================] - 0s 1ms/sample - loss: 0.0055 - accuracy: 0.0357 - val_loss: 0.0500 - val_accuracy: 0.0323\n",
      "Epoch 57/1000\n",
      "168/168 [==============================] - 0s 995us/sample - loss: 0.0056 - accuracy: 0.0357 - val_loss: 0.0521 - val_accuracy: 0.0323\n",
      "Epoch 58/1000\n",
      "168/168 [==============================] - 0s 1ms/sample - loss: 0.0054 - accuracy: 0.0357 - val_loss: 0.0526 - val_accuracy: 0.0323\n",
      "Epoch 59/1000\n",
      "168/168 [==============================] - 0s 1ms/sample - loss: 0.0054 - accuracy: 0.0357 - val_loss: 0.0415 - val_accuracy: 0.0323\n",
      "Epoch 60/1000\n",
      "168/168 [==============================] - 0s 1ms/sample - loss: 0.0055 - accuracy: 0.0357 - val_loss: 0.0408 - val_accuracy: 0.0323\n",
      "Epoch 61/1000\n",
      "168/168 [==============================] - 0s 1ms/sample - loss: 0.0053 - accuracy: 0.0357 - val_loss: 0.0453 - val_accuracy: 0.0323\n",
      "Epoch 62/1000\n",
      "168/168 [==============================] - 0s 1ms/sample - loss: 0.0054 - accuracy: 0.0357 - val_loss: 0.0419 - val_accuracy: 0.0323\n",
      "Epoch 63/1000\n",
      "168/168 [==============================] - 0s 1ms/sample - loss: 0.0053 - accuracy: 0.0357 - val_loss: 0.0440 - val_accuracy: 0.0323\n",
      "Epoch 64/1000\n",
      "168/168 [==============================] - 0s 1ms/sample - loss: 0.0054 - accuracy: 0.0357 - val_loss: 0.0487 - val_accuracy: 0.0323\n",
      "Epoch 65/1000\n",
      "168/168 [==============================] - 0s 1ms/sample - loss: 0.0053 - accuracy: 0.0357 - val_loss: 0.0408 - val_accuracy: 0.0323\n",
      "Epoch 66/1000\n",
      "168/168 [==============================] - 0s 1ms/sample - loss: 0.0053 - accuracy: 0.0357 - val_loss: 0.0393 - val_accuracy: 0.0323\n",
      "Epoch 67/1000\n",
      "168/168 [==============================] - 0s 1ms/sample - loss: 0.0054 - accuracy: 0.0357 - val_loss: 0.0526 - val_accuracy: 0.0323\n",
      "Epoch 68/1000\n",
      "168/168 [==============================] - 0s 1ms/sample - loss: 0.0055 - accuracy: 0.0357 - val_loss: 0.0443 - val_accuracy: 0.0323\n",
      "Epoch 69/1000\n",
      "168/168 [==============================] - 0s 1ms/sample - loss: 0.0053 - accuracy: 0.0357 - val_loss: 0.0449 - val_accuracy: 0.0323\n"
     ]
    }
   ],
   "source": [
    "tf.model.compile(loss='mse',\n",
    "                 # optimizer=tf.keras.optimizers.Adam(lr=learning_rate),\n",
    "                 optimizer='adam',\n",
    "                 metrics=['accuracy'])\n",
    "\n",
    "es = EarlyStopping(monitor='val_loss', mode='min',patience = 50)\n",
    "\n",
    "h = tf.model.fit(trainX, trainY,\n",
    "                 epochs=iterations,\n",
    "                 batch_size=5,\n",
    "                 validation_data=[testX,testY],\n",
    "                 verbose=1,\n",
    "                 callbacks = [es]\n",
    "                )"
   ]
  },
  {
   "cell_type": "markdown",
   "metadata": {
    "slideshow": {
     "slide_type": "slide"
    }
   },
   "source": [
    " -  Modeling 예측"
   ]
  },
  {
   "cell_type": "code",
   "execution_count": 14,
   "metadata": {
    "slideshow": {
     "slide_type": "subslide"
    }
   },
   "outputs": [
    {
     "name": "stdout",
     "output_type": "stream",
     "text": [
      "MSE : 0.04493107146621832 , RMSE : 0.21196950598191788 , score : 85.86905690124667\n"
     ]
    },
    {
     "data": {
      "text/plain": [
       "array([[ 86],\n",
       "       [ 99],\n",
       "       [114],\n",
       "       [120],\n",
       "       [128],\n",
       "       [112],\n",
       "       [102],\n",
       "       [101],\n",
       "       [109],\n",
       "       [118]])"
      ]
     },
     "execution_count": 14,
     "metadata": {},
     "output_type": "execute_result"
    }
   ],
   "source": [
    "test_predict = tf.model.predict(testX)\n",
    "\n",
    "MSE = mean_squared_error(testY,test_predict)\n",
    "RMSE = np.sqrt(MSE)\n",
    "\n",
    "pred_score = 100 * ( 1 - (((test_predict - testY)**2).sum())/((testY**2).sum()))\n",
    "\n",
    "print('MSE : {} , RMSE : {} , score : {}'.format(MSE,RMSE,pred_score))\n",
    "np.array(min_max_y.inverse_transform(test_predict), dtype=np.int)[:10]"
   ]
  },
  {
   "cell_type": "markdown",
   "metadata": {
    "slideshow": {
     "slide_type": "slide"
    }
   },
   "source": [
    " - 에러율 검출 시각화 "
   ]
  },
  {
   "cell_type": "code",
   "execution_count": 15,
   "metadata": {
    "slideshow": {
     "slide_type": "subslide"
    }
   },
   "outputs": [
    {
     "data": {
      "image/png": "[encoded data removed]",
      "text/plain": [
       "<Figure size 432x288 with 1 Axes>"
      ]
     },
     "metadata": {
      "needs_background": "light"
     },
     "output_type": "display_data"
    }
   ],
   "source": [
    "plt.plot(h.history['loss'], label = 'loss', color = 'b')\n",
    "plt.plot(h.history['val_loss'], label = 'val_loss', color = 'r')\n",
    "plt.legend()\n",
    "plt.show()"
   ]
  },
  {
   "cell_type": "markdown",
   "metadata": {
    "slideshow": {
     "slide_type": "slide"
    }
   },
   "source": [
    " - 실제값 vs 예측값 시각화"
   ]
  },
  {
   "cell_type": "code",
   "execution_count": 16,
   "metadata": {
    "slideshow": {
     "slide_type": "subslide"
    }
   },
   "outputs": [
    {
     "data": {
      "image/png": "[encoded data removed]",
      "text/plain": [
       "<Figure size 432x288 with 1 Axes>"
      ]
     },
     "metadata": {
      "needs_background": "light"
     },
     "output_type": "display_data"
    }
   ],
   "source": [
    "Ty = min_max_y.inverse_transform(testY)\n",
    "Tp = min_max_y.inverse_transform(test_predict)\n",
    "Td = Tp - Ty\n",
    "\n",
    "plt.plot(Ty,label = 'test')\n",
    "plt.plot(Tp,label = 'predict')\n",
    "plt.plot(Td,label = 'diff')\n",
    "plt.plot(np.zeros(len(Td)),'--', color = 'black')\n",
    "plt.xlabel(\"Time Period\")\n",
    "plt.ylabel(\"infection\")\n",
    "plt.legend()\n",
    "plt.show()"
   ]
  },
  {
   "cell_type": "markdown",
   "metadata": {
    "slideshow": {
     "slide_type": "slide"
    }
   },
   "source": [
    " - 학습 구간 - 예측구간 전체 시각화"
   ]
  },
  {
   "cell_type": "code",
   "execution_count": 17,
   "metadata": {
    "slideshow": {
     "slide_type": "subslide"
    }
   },
   "outputs": [
    {
     "data": {
      "image/png": "[encoded data removed]",
      "text/plain": [
       "<Figure size 1080x432 with 1 Axes>"
      ]
     },
     "metadata": {
      "needs_background": "light"
     },
     "output_type": "display_data"
    }
   ],
   "source": [
    "t_axis = np.arange(0,len(xy))\n",
    "s_axis = np.arange(0,seq_length)\n",
    "a_axis = np.arange(len(s_axis),len(s_axis) + len(trainY))\n",
    "b_axis = np.arange(len(s_axis) + len(a_axis),len(s_axis) + len(a_axis) + len(test_predict))\n",
    "\n",
    "plt.figure(figsize=(15,6))\n",
    "plt.scatter(t_axis,xy[:,-1],color = 'black',s = 10)\n",
    "plt.plot(a_axis, min_max_y_fit.inverse_transform(trainY), alpha=0.7)\n",
    "plt.plot(b_axis,min_max_y_fit.inverse_transform(test_predict), color='red', alpha=0.5, label='perd')\n",
    "plt.plot(b_axis,min_max_y_fit.inverse_transform(testY), color='springgreen', label='actual')\n",
    "plt.xlabel(\"Time Period\")\n",
    "plt.ylabel(\"infection\")\n",
    "plt.legend()\n",
    "plt.show()\n"
   ]
  },
  {
   "cell_type": "markdown",
   "metadata": {
    "slideshow": {
     "slide_type": "slide"
    }
   },
   "source": [
    " - Modeling Save Point"
   ]
  },
  {
   "cell_type": "code",
   "execution_count": 18,
   "metadata": {
    "slideshow": {
     "slide_type": "subslide"
    }
   },
   "outputs": [
    {
     "name": "stdout",
     "output_type": "stream",
     "text": [
      "모델 점수가 90점 미만입니다.\n"
     ]
    }
   ],
   "source": [
    "from datetime import datetime\n",
    "\n",
    "if pred_score >=90 :\n",
    "    # Save model\n",
    "    model_json = tf.model.to_json()\n",
    "    with open(\"./model_json/model_{}_score_{}.json\".format(datetime.now().strftime('%Y_%m_%d'),int(pred_score*100)), \"w\") as json_file : \n",
    "        json_file.write(model_json)\n",
    "\n",
    "    # Save model weights\n",
    "    tf.model.save_weights(\"./weight_h5/model_weight_{}_score_{}.h5\".format(datetime.now().strftime('%Y_%m_%d'),int(pred_score*100)))\n",
    "    print(\"Saved model to disk\")\n",
    "    \n",
    "else:\n",
    "    print('모델 점수가 90점 미만입니다.')"
   ]
  },
  {
   "cell_type": "markdown",
   "metadata": {
    "slideshow": {
     "slide_type": "slide"
    }
   },
   "source": [
    "### 5일치 데이터 예측하기\n",
    " 1. test_set_sc_x 값을 가져온다."
   ]
  },
  {
   "cell_type": "code",
   "execution_count": 19,
   "metadata": {
    "slideshow": {
     "slide_type": "subslide"
    }
   },
   "outputs": [
    {
     "data": {
      "text/plain": [
       "array([[7623.00, 0.78, 2.00],\n",
       "       [13470.00, 0.74, 2.00],\n",
       "       [14141.00, 1.42, 2.00],\n",
       "       [12907.00, 0.70, 2.00],\n",
       "       [14347.00, 0.93, 2.00]])"
      ]
     },
     "execution_count": 19,
     "metadata": {},
     "output_type": "execute_result"
    }
   ],
   "source": [
    "inv_sq_testX = min_max_x.inverse_transform(test_set_sc_x[-seq_length:])\n",
    "\n",
    "inv_sq_testX"
   ]
  },
  {
   "cell_type": "markdown",
   "metadata": {
    "slideshow": {
     "slide_type": "slide"
    }
   },
   "source": [
    "2. 5일치 X 예측값을 직접 작성한다."
   ]
  },
  {
   "cell_type": "code",
   "execution_count": 20,
   "metadata": {
    "slideshow": {
     "slide_type": "subslide"
    }
   },
   "outputs": [
    {
     "data": {
      "text/plain": [
       "array([[7623.00, 0.78, 2.00],\n",
       "       [13470.00, 0.74, 2.00],\n",
       "       [14141.00, 1.42, 2.00],\n",
       "       [12907.00, 0.70, 2.00],\n",
       "       [14347.00, 0.93, 2.00],\n",
       "       [13470.00, 0.74, 2.00],\n",
       "       [14141.00, 1.42, 2.00],\n",
       "       [12907.00, 0.70, 2.00],\n",
       "       [14347.00, 0.93, 2.00],\n",
       "       [9000.00, 0.77, 2.00],\n",
       "       [14141.00, 1.42, 2.00],\n",
       "       [12907.00, 0.70, 2.00],\n",
       "       [14347.00, 0.93, 2.00],\n",
       "       [9000.00, 0.77, 2.00],\n",
       "       [5000.00, 0.94, 2.00],\n",
       "       [12907.00, 0.70, 2.00],\n",
       "       [14347.00, 0.93, 2.00],\n",
       "       [9000.00, 0.77, 2.00],\n",
       "       [5000.00, 0.94, 2.00],\n",
       "       [15000.00, 1.22, 2.00],\n",
       "       [14347.00, 0.93, 2.00],\n",
       "       [9000.00, 0.77, 2.00],\n",
       "       [5000.00, 0.94, 2.00],\n",
       "       [15000.00, 1.22, 2.00],\n",
       "       [16000.00, 1.21, 2.00]])"
      ]
     },
     "execution_count": 20,
     "metadata": {},
     "output_type": "execute_result"
    }
   ],
   "source": [
    "predX =[[9000, 0.77, 2.0],\n",
    "       [5000, 0.94, 2.0],\n",
    "       [15000, 1.22, 2.0],\n",
    "       [16000, 1.21, 2.0],\n",
    "       [17000, 1.19, 2.0]]\n",
    "\n",
    "predX_10 = np.concatenate((inv_sq_testX,predX),axis = 0).astype(np.float)\n",
    "predX_10\n",
    "predX_10_sc = min_max_x.transform(predX_10)\n",
    "predX_10_dim = []\n",
    "\n",
    "for i in range(0, len(predX_10_sc) - seq_length):\n",
    "        x = predX_10_sc[i:i + seq_length,:]\n",
    "        predX_10_dim.append(x)\n",
    "        \n",
    "predX_10_dim = np.array(predX_10_dim)\n",
    "min_max_x.inverse_transform(predX_10_dim.reshape(-1,3))"
   ]
  },
  {
   "cell_type": "markdown",
   "metadata": {
    "slideshow": {
     "slide_type": "slide"
    }
   },
   "source": [
    "3. 모델 예측 결과"
   ]
  },
  {
   "cell_type": "code",
   "execution_count": 21,
   "metadata": {
    "slideshow": {
     "slide_type": "subslide"
    }
   },
   "outputs": [
    {
     "data": {
      "text/plain": [
       "array([[50],\n",
       "       [44],\n",
       "       [44],\n",
       "       [50],\n",
       "       [59]])"
      ]
     },
     "execution_count": 21,
     "metadata": {},
     "output_type": "execute_result"
    }
   ],
   "source": [
    "test_predict_final_Y = tf.model.predict(predX_10_dim)\n",
    "final_Y = min_max_y.inverse_transform(test_predict_final_Y)\n",
    "final_Y.astype(np.int)"
   ]
  },
  {
   "cell_type": "markdown",
   "metadata": {
    "slideshow": {
     "slide_type": "slide"
    }
   },
   "source": [
    "4. 모델 예측 시각화"
   ]
  },
  {
   "cell_type": "code",
   "execution_count": 22,
   "metadata": {
    "slideshow": {
     "slide_type": "subslide"
    }
   },
   "outputs": [
    {
     "data": {
      "image/png": "[encoded data removed]",
      "text/plain": [
       "<Figure size 432x288 with 1 Axes>"
      ]
     },
     "metadata": {
      "needs_background": "light"
     },
     "output_type": "display_data"
    }
   ],
   "source": [
    "c_axis = np.arange(len(s_axis) + len(a_axis) + len(b_axis) ,\n",
    "                   len(s_axis) + len(a_axis) + len(b_axis)+len(final_Y))\n",
    "\n",
    "plt.plot(b_axis,min_max_y_fit.inverse_transform(test_predict), color='r', alpha=0.5, label='perd')\n",
    "plt.plot(b_axis,min_max_y_fit.inverse_transform(testY), color='green', label='actual')\n",
    "plt.plot(c_axis,final_Y, '--o', color = 'r', alpha=0.5, label='perd_days_5')\n",
    "\n",
    "plt.legend()\n",
    "plt.show()"
   ]
  }
 ],
 "metadata": {
  "celltoolbar": "Slideshow",
  "kernelspec": {
   "display_name": "Python 3",
   "language": "python",
   "name": "python3"
  },
  "language_info": {
   "codemirror_mode": {
    "name": "ipython",
    "version": 3
   },
   "file_extension": ".py",
   "mimetype": "text/x-python",
   "name": "python",
   "nbconvert_exporter": "python",
   "pygments_lexer": "ipython3",
   "version": "3.7.7"
  }
 },
 "nbformat": 4,
 "nbformat_minor": 4
}
