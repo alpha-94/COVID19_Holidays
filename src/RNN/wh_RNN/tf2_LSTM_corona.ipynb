{
 "cells": [
  {
   "cell_type": "markdown",
   "metadata": {
    "slideshow": {
     "slide_type": "slide"
    }
   },
   "source": [
    "# INFOMATION\n",
    "\n",
    "### python info\n",
    " - Version : 3.6.10\n",
    " - Anaconda ver 4.8.2\n",
    " \n",
    "### package info\n",
    " - tensorflow ver 2.1.0\n",
    " - numpy ver 1.19.1\n",
    " - pandas ver 1.1.1"
   ]
  },
  {
   "cell_type": "code",
   "execution_count": 1,
   "metadata": {
    "slideshow": {
     "slide_type": "subslide"
    }
   },
   "outputs": [],
   "source": [
    "# tensorflow\n",
    "import tensorflow as tf\n",
    "from tensorflow.keras.callbacks import EarlyStopping\n",
    "\n",
    "import os\n",
    "\n",
    "# data array\n",
    "import pandas as pd\n",
    "import numpy as np\n",
    "# print 내 지수표현식 방지\n",
    "np.set_printoptions(formatter={'float_kind': lambda x: \"{0:0.2f}\".format(x)})\n",
    "\n",
    "# nomalization\n",
    "from sklearn.preprocessing import MinMaxScaler as scaler\n",
    "from sklearn.metrics import mean_squared_error\n",
    "\n",
    "# return variable name\n",
    "from varname import nameof\n",
    "\n",
    "# dataframe visualization\n",
    "import qgrid"
   ]
  },
  {
   "cell_type": "markdown",
   "metadata": {
    "slideshow": {
     "slide_type": "slide"
    }
   },
   "source": [
    "- matplotlib 오류 방지"
   ]
  },
  {
   "cell_type": "code",
   "execution_count": 2,
   "metadata": {
    "slideshow": {
     "slide_type": "subslide"
    }
   },
   "outputs": [],
   "source": [
    "import matplotlib\n",
    "if \"DISPLAY\" not in os.environ:\n",
    "    # remove Travis CI Error\n",
    "    matplotlib.use('TkAgg')\n",
    "\n",
    "import matplotlib.pyplot as plt\n",
    "%matplotlib inline"
   ]
  },
  {
   "cell_type": "markdown",
   "metadata": {
    "slideshow": {
     "slide_type": "slide"
    }
   },
   "source": [
    "# SETTING\n",
    " ### function"
   ]
  },
  {
   "cell_type": "code",
   "execution_count": 3,
   "metadata": {
    "slideshow": {
     "slide_type": "subslide"
    }
   },
   "outputs": [],
   "source": [
    "def build_dataset(time_series, seq_length):\n",
    "    dataX = []\n",
    "    dataY = []\n",
    "    for i in range(0, len(time_series) - seq_length):\n",
    "        x = time_series[i:i + seq_length,:-1]\n",
    "        y = time_series[i + seq_length, [-1]]  # Next close price\n",
    "\n",
    "        dataX.append(x)\n",
    "        dataY.append(y)\n",
    "        if i <=10:\n",
    "            print('{}번째'.format(i))\n",
    "            print(x, \"->\", y)\n",
    "            print('='*10)\n",
    "            \n",
    "    return np.array(dataX), np.array(dataY)"
   ]
  },
  {
   "cell_type": "markdown",
   "metadata": {
    "slideshow": {
     "slide_type": "slide"
    }
   },
   "source": [
    "### parameter"
   ]
  },
  {
   "cell_type": "code",
   "execution_count": 4,
   "metadata": {
    "slideshow": {
     "slide_type": "subslide"
    }
   },
   "outputs": [],
   "source": [
    "# train Parameters\n",
    "seq_length = 5\n",
    "data_dim = 3\n",
    "output_dim = 1\n",
    "learning_rate = 0.001\n",
    "iterations = 1000"
   ]
  },
  {
   "cell_type": "markdown",
   "metadata": {
    "slideshow": {
     "slide_type": "slide"
    }
   },
   "source": [
    "### Data\n",
    " - load data"
   ]
  },
  {
   "cell_type": "code",
   "execution_count": 5,
   "metadata": {
    "scrolled": true
   },
   "outputs": [],
   "source": [
    "try:\n",
    "    import pymysql\n",
    "\n",
    "    col_name = ['cfm_date','symptom','asymptom','research','cfm_cnt','exam_cnt','policy']\n",
    "    col_name_str = ','.join(col_name)\n",
    "    sql_gginfo_select = \"select {} from GGInternal\".format(col_name_str)\n",
    "\n",
    "    conn = pymysql.connect(\n",
    "        user='root', \n",
    "        passwd='1234', \n",
    "        host='127.0.0.1', \n",
    "        db='covid19', \n",
    "        charset='utf8'\n",
    "    )\n",
    "\n",
    "    with conn.cursor() as cur:\n",
    "        cur.execute(sql_gginfo_select)\n",
    "        data = cur.fetchall()\n",
    "\n",
    "\n",
    "        data = pd.DataFrame(data,columns=col_name)\n",
    "\n",
    "    spd_symptom = 3.5\n",
    "    spd_asymptom = 0.8\n",
    "\n",
    "    data['spread'] = data['symptom'] * (spd_symptom * 0.01) + data['asymptom'] * (spd_asymptom * 0.01)\n",
    "\n",
    "    xy = data[['cfm_date','exam_cnt','spread','policy','cfm_cnt']]\n",
    "\n",
    "    qgrid.show_grid(xy,show_toolbar=True)\n",
    "except:\n",
    "    print('DB 접속 실패')\n",
    "    xy = pd.read_csv(test_kk.csv)\n",
    "    del xy['date']\n"
   ]
  },
  {
   "cell_type": "markdown",
   "metadata": {
    "slideshow": {
     "slide_type": "slide"
    }
   },
   "source": [
    "- 시계열 컬럼 삭제 및 부동소수점으로 변환"
   ]
  },
  {
   "cell_type": "code",
   "execution_count": 6,
   "metadata": {
    "slideshow": {
     "slide_type": "subslide"
    }
   },
   "outputs": [],
   "source": [
    "del xy['cfm_date']\n",
    "xy = xy.values[1:].astype(np.float)\n",
    "# xy = xy[::-1]  # reverse order (chronically ordered) <- already reverse"
   ]
  },
  {
   "cell_type": "markdown",
   "metadata": {
    "slideshow": {
     "slide_type": "slide"
    }
   },
   "source": [
    "- 데이터 시각화"
   ]
  },
  {
   "cell_type": "code",
   "execution_count": 7,
   "metadata": {
    "slideshow": {
     "slide_type": "subslide"
    }
   },
   "outputs": [
    {
     "data": {
      "image/png": "[encoded data removed]",
      "text/plain": [
       "<Figure size 432x288 with 1 Axes>"
      ]
     },
     "metadata": {
      "needs_background": "light"
     },
     "output_type": "display_data"
    }
   ],
   "source": [
    "scal = scaler()\n",
    "scal_tf = scal.fit_transform(xy)\n",
    "\n",
    "plt.plot(scal_tf[:,[0]],label = 'examcnt')\n",
    "plt.plot(scal_tf[:,[1]],label = 'spread')\n",
    "plt.plot(scal_tf[:,[2]],label = 'policy')\n",
    "plt.plot(scal_tf[:,[3]],label = 'infection')\n",
    "plt.legend()\n",
    "plt.show()"
   ]
  },
  {
   "cell_type": "markdown",
   "metadata": {
    "slideshow": {
     "slide_type": "slide"
    }
   },
   "source": [
    "- 학습용 / 테스트용 분리"
   ]
  },
  {
   "cell_type": "code",
   "execution_count": 8,
   "metadata": {
    "slideshow": {
     "slide_type": "subslide"
    }
   },
   "outputs": [],
   "source": [
    "train_size = int(len(xy) * 0.85)\n",
    "train_set = xy[0:train_size]\n",
    "test_set = xy[train_size - seq_length:]"
   ]
  },
  {
   "cell_type": "markdown",
   "metadata": {
    "slideshow": {
     "slide_type": "slide"
    }
   },
   "source": [
    " - 스케일링 (Min-Max Scaling)\n",
    "     > 1. x, y 스케일러 인스턴스 생성\n",
    "     > 2. x, y 전체 피팅 생성\n",
    "     > 3. 학습용 / 테스트용 스케일링 변환\n",
    "     > * 나누는 목적\n",
    "     >> 나중에 inverse 할때 예상값과 같은 배열 크기여야 가능하다."
   ]
  },
  {
   "cell_type": "code",
   "execution_count": 9,
   "metadata": {
    "slideshow": {
     "slide_type": "subslide"
    }
   },
   "outputs": [
    {
     "name": "stdout",
     "output_type": "stream",
     "text": [
      "[[0.00 0.01 0.00]\n",
      " [0.00 0.01 0.00]\n",
      " [0.02 0.01 0.00]\n",
      " [0.02 0.01 0.00]\n",
      " [0.04 0.00 0.00]\n",
      " [0.08 0.01 0.00]\n",
      " [0.13 0.02 0.00]\n",
      " [0.21 0.03 0.00]\n",
      " [0.19 0.11 0.00]\n",
      " [0.27 0.09 0.00]]\n",
      "----------\n",
      "[[55.00 0.04 0.00]\n",
      " [105.00 0.04 0.00]\n",
      " [498.00 0.04 0.00]\n",
      " [512.00 0.04 0.00]\n",
      " [1053.00 0.01 0.00]\n",
      " [1976.00 0.04 0.00]\n",
      " [3098.00 0.07 0.00]\n",
      " [4957.00 0.12 0.00]\n",
      " [4424.00 0.35 0.00]\n",
      " [6346.00 0.29 0.00]]\n",
      "----------\n",
      "[[55.00 0.04 0.00]\n",
      " [105.00 0.04 0.00]\n",
      " [498.00 0.04 0.00]\n",
      " [512.00 0.04 0.00]\n",
      " [1053.00 0.01 0.00]\n",
      " [1976.00 0.04 0.00]\n",
      " [3098.00 0.07 0.00]\n",
      " [4957.00 0.12 0.00]\n",
      " [4424.00 0.35 0.00]\n",
      " [6346.00 0.29 0.00]]\n"
     ]
    }
   ],
   "source": [
    "min_max_x = scaler()\n",
    "min_max_y = scaler()\n",
    "\n",
    "min_max_x_fit = min_max_x.fit(xy[:,:-1])\n",
    "min_max_y_fit = min_max_y.fit(xy[:,[-1]])\n",
    "\n",
    "train_set_sc_x = min_max_x.transform(train_set[:, :-1])\n",
    "train_set_sc_y = min_max_y.transform(train_set[:, [-1]])\n",
    "test_set_sc_x = min_max_x.transform(test_set[:, :-1])\n",
    "test_set_sc_y = min_max_y.transform(test_set[:, [-1]])\n",
    "\n",
    "print(train_set_sc_x[:10])\n",
    "print('-'*10)\n",
    "print(train_set[:10,:-1])\n",
    "print('-'*10)\n",
    "print(min_max_x.inverse_transform(train_set_sc_x)[:10])"
   ]
  },
  {
   "cell_type": "markdown",
   "metadata": {
    "slideshow": {
     "slide_type": "slide"
    }
   },
   "source": [
    " - 원상복귀 시켜준다."
   ]
  },
  {
   "cell_type": "code",
   "execution_count": 10,
   "metadata": {
    "slideshow": {
     "slide_type": "subslide"
    }
   },
   "outputs": [
    {
     "name": "stdout",
     "output_type": "stream",
     "text": [
      "[[0.00 0.01 0.00 0.00]\n",
      " [0.00 0.01 0.00 0.00]\n",
      " [0.02 0.01 0.00 0.00]]\n",
      "----------\n",
      "[[0.43 0.59 0.40 0.61]\n",
      " [0.26 0.50 0.40 0.58]\n",
      " [0.28 0.42 0.40 0.45]]\n"
     ]
    }
   ],
   "source": [
    "train_set = np.concatenate((train_set_sc_x,train_set_sc_y), axis=1)\n",
    "test_set = np.concatenate((test_set_sc_x,test_set_sc_y), axis=1)\n",
    "print(train_set[:3])\n",
    "print('-'*10)\n",
    "print(test_set[:3])"
   ]
  },
  {
   "cell_type": "markdown",
   "metadata": {
    "slideshow": {
     "slide_type": "slide"
    }
   },
   "source": [
    " - 학습 / 테스트 데이터 구분"
   ]
  },
  {
   "cell_type": "code",
   "execution_count": 11,
   "metadata": {
    "slideshow": {
     "slide_type": "subslide"
    }
   },
   "outputs": [
    {
     "name": "stdout",
     "output_type": "stream",
     "text": [
      "Data Name is train_set\n",
      "0번째\n",
      "[[0.00 0.01 0.00]\n",
      " [0.00 0.01 0.00]\n",
      " [0.02 0.01 0.00]\n",
      " [0.02 0.01 0.00]\n",
      " [0.04 0.00 0.00]] -> [0.00]\n",
      "==========\n",
      "1번째\n",
      "[[0.00 0.01 0.00]\n",
      " [0.02 0.01 0.00]\n",
      " [0.02 0.01 0.00]\n",
      " [0.04 0.00 0.00]\n",
      " [0.08 0.01 0.00]] -> [0.01]\n",
      "==========\n",
      "2번째\n",
      "[[0.02 0.01 0.00]\n",
      " [0.02 0.01 0.00]\n",
      " [0.04 0.00 0.00]\n",
      " [0.08 0.01 0.00]\n",
      " [0.13 0.02 0.00]] -> [0.05]\n",
      "==========\n",
      "3번째\n",
      "[[0.02 0.01 0.00]\n",
      " [0.04 0.00 0.00]\n",
      " [0.08 0.01 0.00]\n",
      " [0.13 0.02 0.00]\n",
      " [0.21 0.03 0.00]] -> [0.07]\n",
      "==========\n",
      "4번째\n",
      "[[0.04 0.00 0.00]\n",
      " [0.08 0.01 0.00]\n",
      " [0.13 0.02 0.00]\n",
      " [0.21 0.03 0.00]\n",
      " [0.19 0.11 0.00]] -> [0.07]\n",
      "==========\n",
      "5번째\n",
      "[[0.08 0.01 0.00]\n",
      " [0.13 0.02 0.00]\n",
      " [0.21 0.03 0.00]\n",
      " [0.19 0.11 0.00]\n",
      " [0.27 0.09 0.00]] -> [0.04]\n",
      "==========\n",
      "6번째\n",
      "[[0.13 0.02 0.00]\n",
      " [0.21 0.03 0.00]\n",
      " [0.19 0.11 0.00]\n",
      " [0.27 0.09 0.00]\n",
      " [0.32 0.06 0.00]] -> [0.07]\n",
      "==========\n",
      "7번째\n",
      "[[0.21 0.03 0.00]\n",
      " [0.19 0.11 0.00]\n",
      " [0.27 0.09 0.00]\n",
      " [0.32 0.06 0.00]\n",
      " [0.55 0.09 0.00]] -> [0.10]\n",
      "==========\n",
      "8번째\n",
      "[[0.19 0.11 0.00]\n",
      " [0.27 0.09 0.00]\n",
      " [0.32 0.06 0.00]\n",
      " [0.55 0.09 0.00]\n",
      " [0.54 0.11 0.00]] -> [0.06]\n",
      "==========\n",
      "9번째\n",
      "[[0.27 0.09 0.00]\n",
      " [0.32 0.06 0.00]\n",
      " [0.55 0.09 0.00]\n",
      " [0.54 0.11 0.00]\n",
      " [0.60 0.07 0.00]] -> [0.08]\n",
      "==========\n",
      "10번째\n",
      "[[0.32 0.06 0.00]\n",
      " [0.55 0.09 0.00]\n",
      " [0.54 0.11 0.00]\n",
      " [0.60 0.07 0.00]\n",
      " [0.52 0.10 0.00]] -> [0.01]\n",
      "==========\n",
      "\n",
      "\n",
      "\n",
      "Data Name is test_set\n",
      "0번째\n",
      "[[0.43 0.59 0.40]\n",
      " [0.26 0.50 0.40]\n",
      " [0.28 0.42 0.40]\n",
      " [0.36 0.65 0.80]\n",
      " [0.76 0.79 0.80]] -> [0.86]\n",
      "==========\n",
      "1번째\n",
      "[[0.26 0.50 0.40]\n",
      " [0.28 0.42 0.40]\n",
      " [0.36 0.65 0.80]\n",
      " [0.76 0.79 0.80]\n",
      " [0.80 0.81 0.80]] -> [0.80]\n",
      "==========\n",
      "2번째\n",
      "[[0.28 0.42 0.40]\n",
      " [0.36 0.65 0.80]\n",
      " [0.76 0.79 0.80]\n",
      " [0.80 0.81 0.80]\n",
      " [0.84 0.77 0.80]] -> [0.98]\n",
      "==========\n",
      "3번째\n",
      "[[0.36 0.65 0.80]\n",
      " [0.76 0.79 0.80]\n",
      " [0.80 0.81 0.80]\n",
      " [0.84 0.77 0.80]\n",
      " [0.91 1.00 0.80]] -> [0.60]\n",
      "==========\n",
      "4번째\n",
      "[[0.76 0.79 0.80]\n",
      " [0.80 0.81 0.80]\n",
      " [0.84 0.77 0.80]\n",
      " [0.91 1.00 0.80]\n",
      " [0.64 0.60 0.80]] -> [0.51]\n",
      "==========\n",
      "5번째\n",
      "[[0.80 0.81 0.80]\n",
      " [0.84 0.77 0.80]\n",
      " [0.91 1.00 0.80]\n",
      " [0.64 0.60 0.80]\n",
      " [0.55 0.52 0.80]] -> [0.68]\n",
      "==========\n",
      "6번째\n",
      "[[0.84 0.77 0.80]\n",
      " [0.91 1.00 0.80]\n",
      " [0.64 0.60 0.80]\n",
      " [0.55 0.52 0.80]\n",
      " [0.90 0.73 0.80]] -> [0.78]\n",
      "==========\n",
      "7번째\n",
      "[[0.91 1.00 0.80]\n",
      " [0.64 0.60 0.80]\n",
      " [0.55 0.52 0.80]\n",
      " [0.90 0.73 0.80]\n",
      " [1.00 0.88 0.80]] -> [1.00]\n",
      "==========\n",
      "8번째\n",
      "[[0.64 0.60 0.80]\n",
      " [0.55 0.52 0.80]\n",
      " [0.90 0.73 0.80]\n",
      " [1.00 0.88 0.80]\n",
      " [0.84 0.92 0.80]] -> [0.79]\n",
      "==========\n",
      "9번째\n",
      "[[0.55 0.52 0.80]\n",
      " [0.90 0.73 0.80]\n",
      " [1.00 0.88 0.80]\n",
      " [0.84 0.92 0.80]\n",
      " [0.76 0.61 0.80]] -> [0.68]\n",
      "==========\n",
      "10번째\n",
      "[[0.90 0.73 0.80]\n",
      " [1.00 0.88 0.80]\n",
      " [0.84 0.92 0.80]\n",
      " [0.76 0.61 0.80]\n",
      " [0.91 0.73 0.80]] -> [0.53]\n",
      "==========\n",
      "(169, 5, 3) (31, 5, 3)\n"
     ]
    }
   ],
   "source": [
    "print('Data Name is {}'.format(nameof(train_set)))\n",
    "trainX, trainY = build_dataset(train_set, seq_length)\n",
    "\n",
    "print('\\n\\n')\n",
    "\n",
    "print('Data Name is {}'.format(nameof(test_set)))\n",
    "testX, testY = build_dataset(test_set, seq_length)\n",
    "\n",
    "print(trainX.shape,testX.shape)"
   ]
  },
  {
   "cell_type": "markdown",
   "metadata": {
    "slideshow": {
     "slide_type": "slide"
    }
   },
   "source": [
    " ### LSTM Modeling\n",
    "  - 셀 지정"
   ]
  },
  {
   "cell_type": "code",
   "execution_count": 12,
   "metadata": {
    "slideshow": {
     "slide_type": "subslide"
    }
   },
   "outputs": [
    {
     "name": "stdout",
     "output_type": "stream",
     "text": [
      "Model: \"sequential\"\n",
      "_________________________________________________________________\n",
      "Layer (type)                 Output Shape              Param #   \n",
      "=================================================================\n",
      "lstm (LSTM)                  (None, 5, 4)              128       \n",
      "_________________________________________________________________\n",
      "lstm_1 (LSTM)                (None, 4)                 144       \n",
      "_________________________________________________________________\n",
      "dense (Dense)                (None, 1)                 5         \n",
      "=================================================================\n",
      "Total params: 277\n",
      "Trainable params: 277\n",
      "Non-trainable params: 0\n",
      "_________________________________________________________________\n"
     ]
    }
   ],
   "source": [
    "# tf.random.set_seed(777)\n",
    "tf.model = tf.keras.Sequential()\n",
    "tf.model.add(tf.keras.layers.LSTM(units=4,input_shape=(seq_length, data_dim), return_sequences=True))\n",
    "tf.model.add(tf.keras.layers.LSTM(units=4, return_sequences=False))\n",
    "tf.model.add(tf.keras.layers.Dense(units=output_dim, activation='linear'))\n",
    "tf.model.summary()"
   ]
  },
  {
   "cell_type": "markdown",
   "metadata": {
    "slideshow": {
     "slide_type": "slide"
    }
   },
   "source": [
    " - Compile 지정"
   ]
  },
  {
   "cell_type": "code",
   "execution_count": 13,
   "metadata": {
    "slideshow": {
     "slide_type": "subslide"
    }
   },
   "outputs": [
    {
     "name": "stdout",
     "output_type": "stream",
     "text": [
      "Train on 169 samples, validate on 31 samples\n",
      "Epoch 1/1000\n",
      "169/169 [==============================] - 4s 22ms/sample - loss: 0.0180 - accuracy: 0.1302 - val_loss: 0.1833 - val_accuracy: 0.0000e+00\n",
      "Epoch 2/1000\n",
      "169/169 [==============================] - 0s 779us/sample - loss: 0.0171 - accuracy: 0.1302 - val_loss: 0.1844 - val_accuracy: 0.0000e+00\n",
      "Epoch 3/1000\n",
      "169/169 [==============================] - 0s 803us/sample - loss: 0.0168 - accuracy: 0.1302 - val_loss: 0.1846 - val_accuracy: 0.0000e+00\n",
      "Epoch 4/1000\n",
      "169/169 [==============================] - 0s 814us/sample - loss: 0.0165 - accuracy: 0.1302 - val_loss: 0.1808 - val_accuracy: 0.0000e+00\n",
      "Epoch 5/1000\n",
      "169/169 [==============================] - 0s 820us/sample - loss: 0.0162 - accuracy: 0.1302 - val_loss: 0.1865 - val_accuracy: 0.0000e+00\n",
      "Epoch 6/1000\n",
      "169/169 [==============================] - 0s 974us/sample - loss: 0.0161 - accuracy: 0.1302 - val_loss: 0.1815 - val_accuracy: 0.0000e+00\n",
      "Epoch 7/1000\n",
      "169/169 [==============================] - 0s 997us/sample - loss: 0.0159 - accuracy: 0.1302 - val_loss: 0.1786 - val_accuracy: 0.0000e+00\n",
      "Epoch 8/1000\n",
      "169/169 [==============================] - 0s 1ms/sample - loss: 0.0157 - accuracy: 0.1302 - val_loss: 0.1729 - val_accuracy: 0.0000e+00\n",
      "Epoch 9/1000\n",
      "169/169 [==============================] - 0s 991us/sample - loss: 0.0154 - accuracy: 0.1302 - val_loss: 0.1712 - val_accuracy: 0.0000e+00\n",
      "Epoch 10/1000\n",
      "169/169 [==============================] - 0s 991us/sample - loss: 0.0153 - accuracy: 0.1302 - val_loss: 0.1642 - val_accuracy: 0.0000e+00\n",
      "Epoch 11/1000\n",
      "169/169 [==============================] - 0s 850us/sample - loss: 0.0149 - accuracy: 0.1302 - val_loss: 0.1633 - val_accuracy: 0.0000e+00\n",
      "Epoch 12/1000\n",
      "169/169 [==============================] - 0s 844us/sample - loss: 0.0145 - accuracy: 0.1302 - val_loss: 0.1529 - val_accuracy: 0.0000e+00\n",
      "Epoch 13/1000\n",
      "169/169 [==============================] - 0s 862us/sample - loss: 0.0140 - accuracy: 0.1302 - val_loss: 0.1329 - val_accuracy: 0.0000e+00\n",
      "Epoch 14/1000\n",
      "169/169 [==============================] - 0s 897us/sample - loss: 0.0135 - accuracy: 0.1302 - val_loss: 0.1133 - val_accuracy: 0.0000e+00\n",
      "Epoch 15/1000\n",
      "169/169 [==============================] - 0s 791us/sample - loss: 0.0129 - accuracy: 0.1302 - val_loss: 0.1044 - val_accuracy: 0.0000e+00\n",
      "Epoch 16/1000\n",
      "169/169 [==============================] - 0s 808us/sample - loss: 0.0120 - accuracy: 0.1302 - val_loss: 0.0760 - val_accuracy: 0.0000e+00\n",
      "Epoch 17/1000\n",
      "169/169 [==============================] - 0s 820us/sample - loss: 0.0113 - accuracy: 0.1302 - val_loss: 0.0581 - val_accuracy: 0.0000e+00\n",
      "Epoch 18/1000\n",
      "169/169 [==============================] - 0s 832us/sample - loss: 0.0098 - accuracy: 0.1302 - val_loss: 0.0392 - val_accuracy: 0.0323\n",
      "Epoch 19/1000\n",
      "169/169 [==============================] - 0s 820us/sample - loss: 0.0087 - accuracy: 0.1302 - val_loss: 0.0320 - val_accuracy: 0.0323\n",
      "Epoch 20/1000\n",
      "169/169 [==============================] - 0s 850us/sample - loss: 0.0073 - accuracy: 0.1302 - val_loss: 0.0517 - val_accuracy: 0.0323\n",
      "Epoch 21/1000\n",
      "169/169 [==============================] - 0s 850us/sample - loss: 0.0071 - accuracy: 0.1302 - val_loss: 0.0516 - val_accuracy: 0.0323\n",
      "Epoch 22/1000\n",
      "169/169 [==============================] - 0s 856us/sample - loss: 0.0067 - accuracy: 0.1302 - val_loss: 0.0690 - val_accuracy: 0.0323\n",
      "Epoch 23/1000\n",
      "169/169 [==============================] - 0s 856us/sample - loss: 0.0065 - accuracy: 0.1302 - val_loss: 0.0767 - val_accuracy: 0.0323\n",
      "Epoch 24/1000\n",
      "169/169 [==============================] - 0s 891us/sample - loss: 0.0065 - accuracy: 0.1302 - val_loss: 0.0729 - val_accuracy: 0.0323\n",
      "Epoch 25/1000\n",
      "169/169 [==============================] - 0s 850us/sample - loss: 0.0065 - accuracy: 0.1302 - val_loss: 0.0747 - val_accuracy: 0.0323\n",
      "Epoch 26/1000\n",
      "169/169 [==============================] - 0s 868us/sample - loss: 0.0068 - accuracy: 0.1302 - val_loss: 0.0724 - val_accuracy: 0.0323\n",
      "Epoch 27/1000\n",
      "169/169 [==============================] - 0s 862us/sample - loss: 0.0064 - accuracy: 0.1302 - val_loss: 0.0707 - val_accuracy: 0.0323\n",
      "Epoch 28/1000\n",
      "169/169 [==============================] - 0s 885us/sample - loss: 0.0064 - accuracy: 0.1302 - val_loss: 0.0707 - val_accuracy: 0.0323\n",
      "Epoch 29/1000\n",
      "169/169 [==============================] - 0s 791us/sample - loss: 0.0061 - accuracy: 0.1302 - val_loss: 0.0578 - val_accuracy: 0.0323\n",
      "Epoch 30/1000\n",
      "169/169 [==============================] - 0s 773us/sample - loss: 0.0062 - accuracy: 0.1302 - val_loss: 0.0647 - val_accuracy: 0.0323\n",
      "Epoch 31/1000\n",
      "169/169 [==============================] - 0s 814us/sample - loss: 0.0063 - accuracy: 0.1302 - val_loss: 0.0464 - val_accuracy: 0.0323\n",
      "Epoch 32/1000\n",
      "169/169 [==============================] - 0s 856us/sample - loss: 0.0062 - accuracy: 0.1302 - val_loss: 0.0619 - val_accuracy: 0.0323\n",
      "Epoch 33/1000\n",
      "169/169 [==============================] - 0s 856us/sample - loss: 0.0063 - accuracy: 0.1302 - val_loss: 0.0653 - val_accuracy: 0.0323\n",
      "Epoch 34/1000\n",
      "169/169 [==============================] - 0s 856us/sample - loss: 0.0063 - accuracy: 0.1302 - val_loss: 0.0545 - val_accuracy: 0.0323\n",
      "Epoch 35/1000\n",
      "169/169 [==============================] - 0s 885us/sample - loss: 0.0061 - accuracy: 0.1302 - val_loss: 0.0505 - val_accuracy: 0.0323\n",
      "Epoch 36/1000\n",
      "169/169 [==============================] - 0s 873us/sample - loss: 0.0064 - accuracy: 0.1302 - val_loss: 0.0517 - val_accuracy: 0.0323\n",
      "Epoch 37/1000\n",
      "169/169 [==============================] - 0s 856us/sample - loss: 0.0061 - accuracy: 0.1302 - val_loss: 0.0519 - val_accuracy: 0.0323\n",
      "Epoch 38/1000\n",
      "169/169 [==============================] - 0s 862us/sample - loss: 0.0060 - accuracy: 0.1302 - val_loss: 0.0675 - val_accuracy: 0.0323\n",
      "Epoch 39/1000\n",
      "169/169 [==============================] - 0s 838us/sample - loss: 0.0061 - accuracy: 0.1302 - val_loss: 0.0618 - val_accuracy: 0.0323\n"
     ]
    }
   ],
   "source": [
    "tf.model.compile(loss='mse',\n",
    "                 # optimizer=tf.keras.optimizers.Adam(lr=learning_rate),\n",
    "                 optimizer='adam',\n",
    "                 metrics=['accuracy'])\n",
    "\n",
    "es = EarlyStopping(monitor='val_loss', mode='min',patience = 20)\n",
    "\n",
    "h = tf.model.fit(trainX, trainY,\n",
    "                 epochs=iterations,\n",
    "                 batch_size=5,\n",
    "                 validation_data=[testX,testY],\n",
    "                 verbose=1,\n",
    "                 callbacks = [es]\n",
    "                )"
   ]
  },
  {
   "cell_type": "markdown",
   "metadata": {
    "slideshow": {
     "slide_type": "slide"
    }
   },
   "source": [
    " -  Modeling 예측"
   ]
  },
  {
   "cell_type": "code",
   "execution_count": 14,
   "metadata": {
    "slideshow": {
     "slide_type": "subslide"
    }
   },
   "outputs": [
    {
     "name": "stdout",
     "output_type": "stream",
     "text": [
      "MSE : 0.06175542336152297 , RMSE : 0.24850638495121805 , score : 78.75049448591813\n"
     ]
    },
    {
     "data": {
      "text/plain": [
       "array([[ 92],\n",
       "       [ 97],\n",
       "       [107],\n",
       "       [122],\n",
       "       [124],\n",
       "       [120],\n",
       "       [118],\n",
       "       [119],\n",
       "       [110],\n",
       "       [114]])"
      ]
     },
     "execution_count": 14,
     "metadata": {},
     "output_type": "execute_result"
    }
   ],
   "source": [
    "test_predict = tf.model.predict(testX)\n",
    "\n",
    "MSE = mean_squared_error(testY,test_predict)\n",
    "RMSE = np.sqrt(MSE)\n",
    "\n",
    "pred_score = 100 * ( 1 - (((test_predict - testY)**2).sum())/((testY**2).sum()))\n",
    "\n",
    "print('MSE : {} , RMSE : {} , score : {}'.format(MSE,RMSE,pred_score))\n",
    "np.array(min_max_y.inverse_transform(test_predict), dtype=np.int)[:10]"
   ]
  },
  {
   "cell_type": "markdown",
   "metadata": {
    "slideshow": {
     "slide_type": "slide"
    }
   },
   "source": [
    " - 에러율 검출 시각화 "
   ]
  },
  {
   "cell_type": "code",
   "execution_count": 15,
   "metadata": {
    "slideshow": {
     "slide_type": "subslide"
    }
   },
   "outputs": [
    {
     "data": {
      "image/png": "[encoded data removed]",
      "text/plain": [
       "<Figure size 432x288 with 1 Axes>"
      ]
     },
     "metadata": {
      "needs_background": "light"
     },
     "output_type": "display_data"
    }
   ],
   "source": [
    "plt.plot(h.history['loss'], label = 'loss', color = 'b')\n",
    "plt.plot(h.history['val_loss'], label = 'val_loss', color = 'r')\n",
    "plt.legend()\n",
    "plt.show()"
   ]
  },
  {
   "cell_type": "markdown",
   "metadata": {
    "slideshow": {
     "slide_type": "slide"
    }
   },
   "source": [
    " - 실제값 vs 예측값 시각화"
   ]
  },
  {
   "cell_type": "code",
   "execution_count": 16,
   "metadata": {
    "slideshow": {
     "slide_type": "subslide"
    }
   },
   "outputs": [
    {
     "data": {
      "image/png": "[encoded data removed]",
      "text/plain": [
       "<Figure size 432x288 with 1 Axes>"
      ]
     },
     "metadata": {
      "needs_background": "light"
     },
     "output_type": "display_data"
    }
   ],
   "source": [
    "Ty = min_max_y.inverse_transform(testY)\n",
    "Tp = min_max_y.inverse_transform(test_predict)\n",
    "Td = Tp - Ty\n",
    "\n",
    "plt.plot(Ty,label = 'test')\n",
    "plt.plot(Tp,label = 'predict')\n",
    "plt.plot(Td,label = 'diff')\n",
    "plt.plot(np.zeros(len(Td)),'--', color = 'black')\n",
    "plt.xlabel(\"Time Period\")\n",
    "plt.ylabel(\"infection\")\n",
    "plt.legend()\n",
    "plt.show()"
   ]
  },
  {
   "cell_type": "markdown",
   "metadata": {
    "slideshow": {
     "slide_type": "slide"
    }
   },
   "source": [
    " - 학습 구간 - 예측구간 전체 시각화"
   ]
  },
  {
   "cell_type": "code",
   "execution_count": 17,
   "metadata": {
    "slideshow": {
     "slide_type": "subslide"
    }
   },
   "outputs": [
    {
     "data": {
      "image/png": "[encoded data removed]",
      "text/plain": [
       "<Figure size 1080x432 with 1 Axes>"
      ]
     },
     "metadata": {
      "needs_background": "light"
     },
     "output_type": "display_data"
    }
   ],
   "source": [
    "t_axis = np.arange(0,len(xy))\n",
    "s_axis = np.arange(0,seq_length)\n",
    "a_axis = np.arange(len(s_axis),len(s_axis) + len(trainY))\n",
    "b_axis = np.arange(len(s_axis) + len(a_axis),len(s_axis) + len(a_axis) + len(test_predict))\n",
    "\n",
    "plt.figure(figsize=(15,6))\n",
    "plt.scatter(t_axis,xy[:,-1],color = 'black',s = 10)\n",
    "plt.plot(a_axis, min_max_y_fit.inverse_transform(trainY), alpha=0.7)\n",
    "plt.plot(b_axis,min_max_y_fit.inverse_transform(test_predict), color='red', alpha=0.5, label='perd')\n",
    "plt.plot(b_axis,min_max_y_fit.inverse_transform(testY), color='springgreen', label='actual')\n",
    "plt.xlabel(\"Time Period\")\n",
    "plt.ylabel(\"infection\")\n",
    "plt.legend()\n",
    "plt.show()\n"
   ]
  },
  {
   "cell_type": "markdown",
   "metadata": {},
   "source": [
    " - Modeling Save Point"
   ]
  },
  {
   "cell_type": "code",
   "execution_count": 18,
   "metadata": {},
   "outputs": [
    {
     "name": "stdout",
     "output_type": "stream",
     "text": [
      "모델 점수가 90점 미만입니다.\n"
     ]
    }
   ],
   "source": [
    "from datetime import datetime\n",
    "\n",
    "if pred_score >=90 :\n",
    "    # Save model\n",
    "    model_json = tf.model.to_json()\n",
    "    with open(\"./model_json/model_{}_score_{}.json\".format(datetime.now().strftime('%Y_%m_%d'),int(pred_score*100)), \"w\") as json_file : \n",
    "        json_file.write(model_json)\n",
    "\n",
    "    # Save model weights\n",
    "    tf.model.save_weights(\"./weight_h5/model_weight_{}_score_{}.h5\".format(datetime.now().strftime('%Y_%m_%d'),int(pred_score*100)))\n",
    "    print(\"Saved model to disk\")\n",
    "    \n",
    "else:\n",
    "    print('모델 점수가 90점 미만입니다.')"
   ]
  },
  {
   "cell_type": "markdown",
   "metadata": {},
   "source": [
    "### 5일치 데이터 예측하기\n",
    " 1. test_set_sc_x 값을 가져온다."
   ]
  },
  {
   "cell_type": "code",
   "execution_count": 19,
   "metadata": {},
   "outputs": [
    {
     "data": {
      "text/plain": [
       "array([[13470.00, 0.75, 2.00],\n",
       "       [14141.00, 1.42, 2.00],\n",
       "       [12907.00, 0.70, 2.00],\n",
       "       [14347.00, 0.93, 2.00],\n",
       "       [12687.00, 0.62, 2.00]])"
      ]
     },
     "execution_count": 19,
     "metadata": {},
     "output_type": "execute_result"
    }
   ],
   "source": [
    "inv_sq_testX = min_max_x.inverse_transform(test_set_sc_x[-seq_length:])\n",
    "\n",
    "inv_sq_testX"
   ]
  },
  {
   "cell_type": "markdown",
   "metadata": {},
   "source": [
    "2. 5일치 X 예측값을 직접 작성한다."
   ]
  },
  {
   "cell_type": "code",
   "execution_count": 20,
   "metadata": {},
   "outputs": [
    {
     "data": {
      "text/plain": [
       "array([[13470.00, 0.75, 2.00],\n",
       "       [14141.00, 1.42, 2.00],\n",
       "       [12907.00, 0.70, 2.00],\n",
       "       [14347.00, 0.93, 2.00],\n",
       "       [12687.00, 0.62, 2.00],\n",
       "       [14141.00, 1.42, 2.00],\n",
       "       [12907.00, 0.70, 2.00],\n",
       "       [14347.00, 0.93, 2.00],\n",
       "       [12687.00, 0.62, 2.00],\n",
       "       [9000.00, 0.77, 2.00],\n",
       "       [12907.00, 0.70, 2.00],\n",
       "       [14347.00, 0.93, 2.00],\n",
       "       [12687.00, 0.62, 2.00],\n",
       "       [9000.00, 0.77, 2.00],\n",
       "       [5000.00, 0.94, 2.00],\n",
       "       [14347.00, 0.93, 2.00],\n",
       "       [12687.00, 0.62, 2.00],\n",
       "       [9000.00, 0.77, 2.00],\n",
       "       [5000.00, 0.94, 2.00],\n",
       "       [15000.00, 1.22, 2.00],\n",
       "       [12687.00, 0.62, 2.00],\n",
       "       [9000.00, 0.77, 2.00],\n",
       "       [5000.00, 0.94, 2.00],\n",
       "       [15000.00, 1.22, 2.00],\n",
       "       [16000.00, 1.21, 2.00]])"
      ]
     },
     "execution_count": 20,
     "metadata": {},
     "output_type": "execute_result"
    }
   ],
   "source": [
    "predX =[[9000, 0.77, 2.0],\n",
    "       [5000, 0.94, 2.0],\n",
    "       [15000, 1.22, 2.0],\n",
    "       [16000, 1.21, 2.0],\n",
    "       [17000, 1.19, 2.0]]\n",
    "\n",
    "predX_10 = np.concatenate((inv_sq_testX,predX),axis = 0).astype(np.float)\n",
    "predX_10\n",
    "predX_10_sc = min_max_x.transform(predX_10)\n",
    "predX_10_dim = []\n",
    "\n",
    "for i in range(0, len(predX_10_sc) - seq_length):\n",
    "        x = predX_10_sc[i:i + seq_length,:]\n",
    "        predX_10_dim.append(x)\n",
    "        \n",
    "predX_10_dim = np.array(predX_10_dim)\n",
    "min_max_x.inverse_transform(predX_10_dim.reshape(-1,3))"
   ]
  },
  {
   "cell_type": "markdown",
   "metadata": {},
   "source": [
    "3. 모델 예측 결과"
   ]
  },
  {
   "cell_type": "code",
   "execution_count": 21,
   "metadata": {},
   "outputs": [
    {
     "data": {
      "text/plain": [
       "array([[36],\n",
       "       [36],\n",
       "       [27],\n",
       "       [32],\n",
       "       [36]])"
      ]
     },
     "execution_count": 21,
     "metadata": {},
     "output_type": "execute_result"
    }
   ],
   "source": [
    "test_predict_final_Y = tf.model.predict(predX_10_dim)\n",
    "final_Y = min_max_y.inverse_transform(test_predict_final_Y)\n",
    "final_Y.astype(np.int)"
   ]
  },
  {
   "cell_type": "markdown",
   "metadata": {},
   "source": [
    "4. 모델 예측 시각화"
   ]
  },
  {
   "cell_type": "code",
   "execution_count": 22,
   "metadata": {},
   "outputs": [
    {
     "data": {
      "image/png": "[encoded data removed]",
      "text/plain": [
       "<Figure size 432x288 with 1 Axes>"
      ]
     },
     "metadata": {
      "needs_background": "light"
     },
     "output_type": "display_data"
    }
   ],
   "source": [
    "c_axis = np.arange(len(s_axis) + len(a_axis) + len(b_axis) ,\n",
    "                   len(s_axis) + len(a_axis) + len(b_axis)+len(final_Y))\n",
    "\n",
    "plt.plot(b_axis,min_max_y_fit.inverse_transform(test_predict), color='r', alpha=0.5, label='perd')\n",
    "plt.plot(b_axis,min_max_y_fit.inverse_transform(testY), color='green', label='actual')\n",
    "plt.plot(c_axis,final_Y, '--o', color = 'r', alpha=0.5, label='perd_days_5')\n",
    "\n",
    "plt.legend()\n",
    "plt.show()"
   ]
  },
  {
   "cell_type": "code",
   "execution_count": null,
   "metadata": {},
   "outputs": [],
   "source": []
  }
 ],
 "metadata": {
  "celltoolbar": "Slideshow",
  "kernelspec": {
   "display_name": "Python 3",
   "language": "python",
   "name": "python3"
  },
  "language_info": {
   "codemirror_mode": {
    "name": "ipython",
    "version": 3
   },
   "file_extension": ".py",
   "mimetype": "text/x-python",
   "name": "python",
   "nbconvert_exporter": "python",
   "pygments_lexer": "ipython3",
   "version": "3.7.7"
  }
 },
 "nbformat": 4,
 "nbformat_minor": 4
}
